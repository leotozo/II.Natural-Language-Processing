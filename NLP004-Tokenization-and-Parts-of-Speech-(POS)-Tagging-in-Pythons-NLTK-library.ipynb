{
 "cells": [
  {
   "cell_type": "markdown",
   "metadata": {},
   "source": [
    "# NLP - Tokenization and Part of Speech(POS) Tagging in Python's NLTK library       "
   ]
  },
  {
   "cell_type": "markdown",
   "metadata": {},
   "source": [
    "By [Leonardo Tozo](https://www.linkedin.com/in/leotozo/)"
   ]
  },
  {
   "cell_type": "markdown",
   "metadata": {},
   "source": [
    "****************************\n",
    "Hello,\n",
    "<br>This is part of my personal portfolio, my intention with this series of notebooks is to keep practicing and improving my A.I & Machine Learning skills.\n",
    " \n",
    "*Leonardo Tozo Bisinoto*\n",
    "<br>*MBA in Artificial Intelligence & Machine Learning*\n",
    "<br>*LinkedIn: https://www.linkedin.com/in/leotozo/*\n",
    "<br>*Github: https://github.com/leotozo*\n",
    "**************************** "
   ]
  },
  {
   "cell_type": "code",
   "execution_count": 9,
   "metadata": {},
   "outputs": [],
   "source": [
    "import numpy as np\n",
    "import pandas as pd"
   ]
  },
  {
   "cell_type": "code",
   "execution_count": 10,
   "metadata": {},
   "outputs": [],
   "source": [
    "df = pd.read_csv(\n",
    "    'imdb-dataset.csv',encoding='utf-8'\n",
    ").sample(10000)"
   ]
  },
  {
   "cell_type": "code",
   "execution_count": 11,
   "metadata": {},
   "outputs": [],
   "source": [
    "df_clean = df.copy()"
   ]
  },
  {
   "cell_type": "code",
   "execution_count": 12,
   "metadata": {},
   "outputs": [
    {
     "data": {
      "text/html": [
       "<div>\n",
       "<style scoped>\n",
       "    .dataframe tbody tr th:only-of-type {\n",
       "        vertical-align: middle;\n",
       "    }\n",
       "\n",
       "    .dataframe tbody tr th {\n",
       "        vertical-align: top;\n",
       "    }\n",
       "\n",
       "    .dataframe thead th {\n",
       "        text-align: right;\n",
       "    }\n",
       "</style>\n",
       "<table border=\"1\" class=\"dataframe\">\n",
       "  <thead>\n",
       "    <tr style=\"text-align: right;\">\n",
       "      <th></th>\n",
       "      <th>review</th>\n",
       "      <th>sentiment</th>\n",
       "    </tr>\n",
       "  </thead>\n",
       "  <tbody>\n",
       "    <tr>\n",
       "      <th>44429</th>\n",
       "      <td>what can i say. oh yeah those freaking fingers...</td>\n",
       "      <td>positive</td>\n",
       "    </tr>\n",
       "    <tr>\n",
       "      <th>42943</th>\n",
       "      <td>I think this is a lovely family movie. There a...</td>\n",
       "      <td>positive</td>\n",
       "    </tr>\n",
       "    <tr>\n",
       "      <th>18436</th>\n",
       "      <td>William (Nicholas Ball) and Emma Peters (Rache...</td>\n",
       "      <td>positive</td>\n",
       "    </tr>\n",
       "    <tr>\n",
       "      <th>43722</th>\n",
       "      <td>The best thing about this movie is that it is ...</td>\n",
       "      <td>positive</td>\n",
       "    </tr>\n",
       "    <tr>\n",
       "      <th>43925</th>\n",
       "      <td>It takes a rare movie to get better each time ...</td>\n",
       "      <td>positive</td>\n",
       "    </tr>\n",
       "  </tbody>\n",
       "</table>\n",
       "</div>"
      ],
      "text/plain": [
       "                                                  review sentiment\n",
       "44429  what can i say. oh yeah those freaking fingers...  positive\n",
       "42943  I think this is a lovely family movie. There a...  positive\n",
       "18436  William (Nicholas Ball) and Emma Peters (Rache...  positive\n",
       "43722  The best thing about this movie is that it is ...  positive\n",
       "43925  It takes a rare movie to get better each time ...  positive"
      ]
     },
     "execution_count": 12,
     "metadata": {},
     "output_type": "execute_result"
    }
   ],
   "source": [
    "df_clean.head()"
   ]
  },
  {
   "cell_type": "code",
   "execution_count": 13,
   "metadata": {},
   "outputs": [],
   "source": [
    "df_clean['sentiment'] = df_clean['sentiment'].apply(lambda x: 1 if x=='neg' else 0)"
   ]
  },
  {
   "cell_type": "code",
   "execution_count": 14,
   "metadata": {},
   "outputs": [],
   "source": [
    "df_clean = df_clean.loc[:, ['review', 'sentiment']]"
   ]
  },
  {
   "cell_type": "code",
   "execution_count": 15,
   "metadata": {},
   "outputs": [
    {
     "data": {
      "text/html": [
       "<div>\n",
       "<style scoped>\n",
       "    .dataframe tbody tr th:only-of-type {\n",
       "        vertical-align: middle;\n",
       "    }\n",
       "\n",
       "    .dataframe tbody tr th {\n",
       "        vertical-align: top;\n",
       "    }\n",
       "\n",
       "    .dataframe thead th {\n",
       "        text-align: right;\n",
       "    }\n",
       "</style>\n",
       "<table border=\"1\" class=\"dataframe\">\n",
       "  <thead>\n",
       "    <tr style=\"text-align: right;\">\n",
       "      <th></th>\n",
       "      <th>review</th>\n",
       "      <th>sentiment</th>\n",
       "    </tr>\n",
       "  </thead>\n",
       "  <tbody>\n",
       "    <tr>\n",
       "      <th>44429</th>\n",
       "      <td>what can i say. oh yeah those freaking fingers...</td>\n",
       "      <td>0</td>\n",
       "    </tr>\n",
       "    <tr>\n",
       "      <th>42943</th>\n",
       "      <td>I think this is a lovely family movie. There a...</td>\n",
       "      <td>0</td>\n",
       "    </tr>\n",
       "    <tr>\n",
       "      <th>18436</th>\n",
       "      <td>William (Nicholas Ball) and Emma Peters (Rache...</td>\n",
       "      <td>0</td>\n",
       "    </tr>\n",
       "    <tr>\n",
       "      <th>43722</th>\n",
       "      <td>The best thing about this movie is that it is ...</td>\n",
       "      <td>0</td>\n",
       "    </tr>\n",
       "    <tr>\n",
       "      <th>43925</th>\n",
       "      <td>It takes a rare movie to get better each time ...</td>\n",
       "      <td>0</td>\n",
       "    </tr>\n",
       "  </tbody>\n",
       "</table>\n",
       "</div>"
      ],
      "text/plain": [
       "                                                  review  sentiment\n",
       "44429  what can i say. oh yeah those freaking fingers...          0\n",
       "42943  I think this is a lovely family movie. There a...          0\n",
       "18436  William (Nicholas Ball) and Emma Peters (Rache...          0\n",
       "43722  The best thing about this movie is that it is ...          0\n",
       "43925  It takes a rare movie to get better each time ...          0"
      ]
     },
     "execution_count": 15,
     "metadata": {},
     "output_type": "execute_result"
    }
   ],
   "source": [
    "df_clean.head()"
   ]
  },
  {
   "cell_type": "code",
   "execution_count": 16,
   "metadata": {},
   "outputs": [
    {
     "data": {
      "text/plain": [
       "array(['what', 'can', 'i', 'say', '.', 'oh', 'yeah', 'those', 'freaking',\n",
       "       'fingers', 'are', 'so', 'weird', '.', 'they', 'scare', 'the',\n",
       "       'heck', 'out', 'of', 'me', '.', 'but', 'it', 'is', 'such', 'a',\n",
       "       'funny', 'film', ',', 'Jim', 'Carrey', 'works', 'the', 'grinch',\n",
       "       '.', 'if', 'you', 'havent', 'already', 'seen', 'it', 'then',\n",
       "       'what', 'you', 'waiting', 'for', 'an', 'invitation', '.', 'go',\n",
       "       ',', 'go', 'and', 'get', 'watch', 'it', '.', 'you', 'dont', 'know',\n",
       "       'what', 'your', 'missing', '.'], dtype='<U10')"
      ]
     },
     "execution_count": 16,
     "metadata": {},
     "output_type": "execute_result"
    }
   ],
   "source": [
    "import nltk\n",
    "\n",
    "tokens = nltk.word_tokenize(df_clean['review'].iloc[0])\n",
    "\n",
    "np.array(tokens)"
   ]
  },
  {
   "cell_type": "code",
   "execution_count": 17,
   "metadata": {},
   "outputs": [
    {
     "name": "stdout",
     "output_type": "stream",
     "text": [
      "Parts of Speech:  [('what', 'WP'), ('can', 'MD'), ('i', 'VB'), ('say', 'VBP'), ('.', '.'), ('oh', 'JJ'), ('yeah', 'UH'), ('those', 'DT'), ('freaking', 'JJ'), ('fingers', 'NNS'), ('are', 'VBP'), ('so', 'RB'), ('weird', 'JJ'), ('.', '.'), ('they', 'PRP'), ('scare', 'VBP'), ('the', 'DT'), ('heck', 'NN'), ('out', 'IN'), ('of', 'IN'), ('me', 'PRP'), ('.', '.'), ('but', 'CC'), ('it', 'PRP'), ('is', 'VBZ'), ('such', 'JJ'), ('a', 'DT'), ('funny', 'JJ'), ('film', 'NN'), (',', ','), ('Jim', 'NNP'), ('Carrey', 'NNP'), ('works', 'VBZ'), ('the', 'DT'), ('grinch', 'NN'), ('.', '.'), ('if', 'IN'), ('you', 'PRP'), ('havent', 'VBP'), ('already', 'RB'), ('seen', 'VBN'), ('it', 'PRP'), ('then', 'RB'), ('what', 'WP'), ('you', 'PRP'), ('waiting', 'VBG'), ('for', 'IN'), ('an', 'DT'), ('invitation', 'NN'), ('.', '.'), ('go', 'VB'), (',', ','), ('go', 'VB'), ('and', 'CC'), ('get', 'VB'), ('watch', 'NN'), ('it', 'PRP'), ('.', '.'), ('you', 'PRP'), ('dont', 'VBP'), ('know', 'VB'), ('what', 'WP'), ('your', 'PRP$'), ('missing', 'VBG'), ('.', '.')]\n"
     ]
    }
   ],
   "source": [
    "print(\"Parts of Speech: \", nltk.pos_tag(tokens))"
   ]
  },
  {
   "cell_type": "code",
   "execution_count": null,
   "metadata": {},
   "outputs": [],
   "source": []
  }
 ],
 "metadata": {
  "kernelspec": {
   "display_name": "Python 3",
   "language": "python",
   "name": "python3"
  },
  "language_info": {
   "codemirror_mode": {
    "name": "ipython",
    "version": 3
   },
   "file_extension": ".py",
   "mimetype": "text/x-python",
   "name": "python",
   "nbconvert_exporter": "python",
   "pygments_lexer": "ipython3",
   "version": "3.7.3"
  }
 },
 "nbformat": 4,
 "nbformat_minor": 4
}

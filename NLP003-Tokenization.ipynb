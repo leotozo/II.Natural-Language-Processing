{
 "cells": [
  {
   "cell_type": "markdown",
   "metadata": {},
   "source": [
    "# NLP - Tokenization       "
   ]
  },
  {
   "cell_type": "markdown",
   "metadata": {},
   "source": [
    "By [Leonardo Tozo](https://www.linkedin.com/in/leotozo/)"
   ]
  },
  {
   "cell_type": "markdown",
   "metadata": {},
   "source": [
    "****************************\n",
    "Hello,\n",
    "<br>This is part of my personal portfolio, my intention with this series of notebooks is to keep practicing and improving my A.I & Machine Learning skills.\n",
    " \n",
    "*Leonardo Tozo Bisinoto*\n",
    "<br>*MBA in Artificial Intelligence & Machine Learning*\n",
    "<br>*LinkedIn: https://www.linkedin.com/in/leotozo/*\n",
    "<br>*Github: https://github.com/leotozo*\n",
    "**************************** "
   ]
  },
  {
   "cell_type": "markdown",
   "metadata": {},
   "source": [
    "This data analysis uses the IMDB reviews dataset. I will perform a basic NLP techniques."
   ]
  },
  {
   "cell_type": "code",
   "execution_count": 3,
   "metadata": {},
   "outputs": [],
   "source": [
    "import pandas as pd\n",
    "import numpy as np"
   ]
  },
  {
   "cell_type": "markdown",
   "metadata": {},
   "source": [
    "# Reading the IMDB dataset."
   ]
  },
  {
   "cell_type": "code",
   "execution_count": 5,
   "metadata": {},
   "outputs": [],
   "source": [
    "df = pd.read_csv(\n",
    "    './imdb-dataset.csv',encoding='utf-8'\n",
    ").sample(1000)"
   ]
  },
  {
   "cell_type": "code",
   "execution_count": 6,
   "metadata": {},
   "outputs": [
    {
     "data": {
      "text/html": [
       "<div>\n",
       "<style scoped>\n",
       "    .dataframe tbody tr th:only-of-type {\n",
       "        vertical-align: middle;\n",
       "    }\n",
       "\n",
       "    .dataframe tbody tr th {\n",
       "        vertical-align: top;\n",
       "    }\n",
       "\n",
       "    .dataframe thead th {\n",
       "        text-align: right;\n",
       "    }\n",
       "</style>\n",
       "<table border=\"1\" class=\"dataframe\">\n",
       "  <thead>\n",
       "    <tr style=\"text-align: right;\">\n",
       "      <th></th>\n",
       "      <th>review</th>\n",
       "      <th>sentiment</th>\n",
       "    </tr>\n",
       "  </thead>\n",
       "  <tbody>\n",
       "    <tr>\n",
       "      <th>49338</th>\n",
       "      <td>What's to like about this movie???&lt;br /&gt;&lt;br /&gt;...</td>\n",
       "      <td>negative</td>\n",
       "    </tr>\n",
       "    <tr>\n",
       "      <th>43748</th>\n",
       "      <td>Having watched the show for about four weeks, ...</td>\n",
       "      <td>positive</td>\n",
       "    </tr>\n",
       "    <tr>\n",
       "      <th>42998</th>\n",
       "      <td>Not a bad word to say about this film really. ...</td>\n",
       "      <td>positive</td>\n",
       "    </tr>\n",
       "    <tr>\n",
       "      <th>31133</th>\n",
       "      <td>I don't know why, but for some sick reason, I ...</td>\n",
       "      <td>negative</td>\n",
       "    </tr>\n",
       "    <tr>\n",
       "      <th>13154</th>\n",
       "      <td>this movie is the worst EVER!!! sorry but this...</td>\n",
       "      <td>negative</td>\n",
       "    </tr>\n",
       "  </tbody>\n",
       "</table>\n",
       "</div>"
      ],
      "text/plain": [
       "                                                  review sentiment\n",
       "49338  What's to like about this movie???<br /><br />...  negative\n",
       "43748  Having watched the show for about four weeks, ...  positive\n",
       "42998  Not a bad word to say about this film really. ...  positive\n",
       "31133  I don't know why, but for some sick reason, I ...  negative\n",
       "13154  this movie is the worst EVER!!! sorry but this...  negative"
      ]
     },
     "execution_count": 6,
     "metadata": {},
     "output_type": "execute_result"
    }
   ],
   "source": [
    "df.head()"
   ]
  },
  {
   "cell_type": "code",
   "execution_count": 9,
   "metadata": {},
   "outputs": [],
   "source": [
    "text = df[\"review\"].iloc[0]"
   ]
  },
  {
   "cell_type": "code",
   "execution_count": 17,
   "metadata": {},
   "outputs": [],
   "source": [
    "df[\"review\"] = df['review'].replace(r\"[^a-zA-Z0-9]+\",' ',regex=True) "
   ]
  },
  {
   "cell_type": "code",
   "execution_count": 18,
   "metadata": {},
   "outputs": [
    {
     "data": {
      "text/plain": [
       "'What s to like about this movie br br It is in colour br br It has some impressive underwater photography br br It has a rhythmic musical score in the background that works well at times br br So 3 out of 10 br br Sometimes the music is speeded up Especially when the shark or the baddies are about to move in br br Sometimes it is slowed As if to convey to the audience it s about to be time for sympathy br br As another one bites the dust As if in a spagetti Western this has much similarity to br br It s not that the Italians can t produce quality productions There was a series of TV movies with a heading like Octopus numbered about 1 to 7 screened on SBS TV in Australia in the 1990s about mafia type conflicts And they were excellent But alas you won t find it here br br I assumed it was made about 1960s Sadly it was 20 years out of date as evidenced by a funeral scene near the end br br Then there was the razor sharp bite of the speedy shark that makes for a red dust repeatedly emerging in the bluish waters br br Amidst it all either in bar room brawl or in observing the latest sea side bloody demolition by the relentlessly hungry shark the mate of the hero looks on through his glasses of little concern as if he too was bored in his relentless role amidst a lack of much evidence of plot or anyone s character development br br At least the hero indicates a fleeting concern belatedly for his ex wife br br But of course even if the music fails to awaken our realisation we have the sinister sound in the baddies voices as if to nudge us that another dark deed is about to emerge br br And near the end someone thought of a twist Just when we thought it was all totally predictable But stay tuned folks for you may find another twist If you are watching closely To more or less warm your heart br br Follow the advice of the hero and have a few beers along the way It ll make your viewing of Night of the Sharks more enjoyable br br Then you ll be ready for something like a 007 movie to ease your way back into reality when this is over '"
      ]
     },
     "execution_count": 18,
     "metadata": {},
     "output_type": "execute_result"
    }
   ],
   "source": [
    "df[\"review\"].iloc[0]"
   ]
  },
  {
   "cell_type": "code",
   "execution_count": 19,
   "metadata": {},
   "outputs": [],
   "source": [
    "import nltk"
   ]
  },
  {
   "cell_type": "code",
   "execution_count": 20,
   "metadata": {},
   "outputs": [
    {
     "data": {
      "text/plain": [
       "array(['What', 's', 'to', 'like', 'about', 'this', 'movie', 'br', 'br',\n",
       "       'It', 'is', 'in', 'colour', 'br', 'br', 'It', 'has', 'some',\n",
       "       'impressive', 'underwater', 'photography', 'br', 'br', 'It', 'has',\n",
       "       'a', 'rhythmic', 'musical', 'score', 'in', 'the', 'background',\n",
       "       'that', 'works', 'well', 'at', 'times', 'br', 'br', 'So', '3',\n",
       "       'out', 'of', '10', 'br', 'br', 'Sometimes', 'the', 'music', 'is',\n",
       "       'speeded', 'up', 'Especially', 'when', 'the', 'shark', 'or', 'the',\n",
       "       'baddies', 'are', 'about', 'to', 'move', 'in', 'br', 'br',\n",
       "       'Sometimes', 'it', 'is', 'slowed', 'As', 'if', 'to', 'convey',\n",
       "       'to', 'the', 'audience', 'it', 's', 'about', 'to', 'be', 'time',\n",
       "       'for', 'sympathy', 'br', 'br', 'As', 'another', 'one', 'bites',\n",
       "       'the', 'dust', 'As', 'if', 'in', 'a', 'spagetti', 'Western',\n",
       "       'this', 'has', 'much', 'similarity', 'to', 'br', 'br', 'It', 's',\n",
       "       'not', 'that', 'the', 'Italians', 'can', 't', 'produce', 'quality',\n",
       "       'productions', 'There', 'was', 'a', 'series', 'of', 'TV', 'movies',\n",
       "       'with', 'a', 'heading', 'like', 'Octopus', 'numbered', 'about',\n",
       "       '1', 'to', '7', 'screened', 'on', 'SBS', 'TV', 'in', 'Australia',\n",
       "       'in', 'the', '1990s', 'about', 'mafia', 'type', 'conflicts', 'And',\n",
       "       'they', 'were', 'excellent', 'But', 'alas', 'you', 'won', 't',\n",
       "       'find', 'it', 'here', 'br', 'br', 'I', 'assumed', 'it', 'was',\n",
       "       'made', 'about', '1960s', 'Sadly', 'it', 'was', '20', 'years',\n",
       "       'out', 'of', 'date', 'as', 'evidenced', 'by', 'a', 'funeral',\n",
       "       'scene', 'near', 'the', 'end', 'br', 'br', 'Then', 'there', 'was',\n",
       "       'the', 'razor', 'sharp', 'bite', 'of', 'the', 'speedy', 'shark',\n",
       "       'that', 'makes', 'for', 'a', 'red', 'dust', 'repeatedly',\n",
       "       'emerging', 'in', 'the', 'bluish', 'waters', 'br', 'br', 'Amidst',\n",
       "       'it', 'all', 'either', 'in', 'bar', 'room', 'brawl', 'or', 'in',\n",
       "       'observing', 'the', 'latest', 'sea', 'side', 'bloody',\n",
       "       'demolition', 'by', 'the', 'relentlessly', 'hungry', 'shark',\n",
       "       'the', 'mate', 'of', 'the', 'hero', 'looks', 'on', 'through',\n",
       "       'his', 'glasses', 'of', 'little', 'concern', 'as', 'if', 'he',\n",
       "       'too', 'was', 'bored', 'in', 'his', 'relentless', 'role', 'amidst',\n",
       "       'a', 'lack', 'of', 'much', 'evidence', 'of', 'plot', 'or',\n",
       "       'anyone', 's', 'character', 'development', 'br', 'br', 'At',\n",
       "       'least', 'the', 'hero', 'indicates', 'a', 'fleeting', 'concern',\n",
       "       'belatedly', 'for', 'his', 'ex', 'wife', 'br', 'br', 'But', 'of',\n",
       "       'course', 'even', 'if', 'the', 'music', 'fails', 'to', 'awaken',\n",
       "       'our', 'realisation', 'we', 'have', 'the', 'sinister', 'sound',\n",
       "       'in', 'the', 'baddies', 'voices', 'as', 'if', 'to', 'nudge', 'us',\n",
       "       'that', 'another', 'dark', 'deed', 'is', 'about', 'to', 'emerge',\n",
       "       'br', 'br', 'And', 'near', 'the', 'end', 'someone', 'thought',\n",
       "       'of', 'a', 'twist', 'Just', 'when', 'we', 'thought', 'it', 'was',\n",
       "       'all', 'totally', 'predictable', 'But', 'stay', 'tuned', 'folks',\n",
       "       'for', 'you', 'may', 'find', 'another', 'twist', 'If', 'you',\n",
       "       'are', 'watching', 'closely', 'To', 'more', 'or', 'less', 'warm',\n",
       "       'your', 'heart', 'br', 'br', 'Follow', 'the', 'advice', 'of',\n",
       "       'the', 'hero', 'and', 'have', 'a', 'few', 'beers', 'along', 'the',\n",
       "       'way', 'It', 'll', 'make', 'your', 'viewing', 'of', 'Night', 'of',\n",
       "       'the', 'Sharks', 'more', 'enjoyable', 'br', 'br', 'Then', 'you',\n",
       "       'll', 'be', 'ready', 'for', 'something', 'like', 'a', '007',\n",
       "       'movie', 'to', 'ease', 'your', 'way', 'back', 'into', 'reality',\n",
       "       'when', 'this', 'is', 'over'], dtype='<U12')"
      ]
     },
     "execution_count": 20,
     "metadata": {},
     "output_type": "execute_result"
    }
   ],
   "source": [
    "wt = nltk.word_tokenize(df[\"review\"].iloc[0])\n",
    "\n",
    "np.array(wt)"
   ]
  },
  {
   "cell_type": "code",
   "execution_count": 21,
   "metadata": {},
   "outputs": [
    {
     "data": {
      "text/plain": [
       "'What s to like about this movie br br It is in colour br br It has some impressive underwater photography br br It has a rhythmic musical score in the background that works well at times br br So 3 out of 10 br br Sometimes the music is speeded up Especially when the shark or the baddies are about to move in br br Sometimes it is slowed As if to convey to the audience it s about to be time for sympathy br br As another one bites the dust As if in a spagetti Western this has much similarity to br br It s not that the Italians can t produce quality productions There was a series of TV movies with a heading like Octopus numbered about 1 to 7 screened on SBS TV in Australia in the 1990s about mafia type conflicts And they were excellent But alas you won t find it here br br I assumed it was made about 1960s Sadly it was 20 years out of date as evidenced by a funeral scene near the end br br Then there was the razor sharp bite of the speedy shark that makes for a red dust repeatedly emerging in the bluish waters br br Amidst it all either in bar room brawl or in observing the latest sea side bloody demolition by the relentlessly hungry shark the mate of the hero looks on through his glasses of little concern as if he too was bored in his relentless role amidst a lack of much evidence of plot or anyone s character development br br At least the hero indicates a fleeting concern belatedly for his ex wife br br But of course even if the music fails to awaken our realisation we have the sinister sound in the baddies voices as if to nudge us that another dark deed is about to emerge br br And near the end someone thought of a twist Just when we thought it was all totally predictable But stay tuned folks for you may find another twist If you are watching closely To more or less warm your heart br br Follow the advice of the hero and have a few beers along the way It ll make your viewing of Night of the Sharks more enjoyable br br Then you ll be ready for something like a 007 movie to ease your way back into reality when this is over '"
      ]
     },
     "execution_count": 21,
     "metadata": {},
     "output_type": "execute_result"
    }
   ],
   "source": [
    "df[\"review\"].iloc[0]"
   ]
  },
  {
   "cell_type": "markdown",
   "metadata": {},
   "source": [
    "# Tokenize using the white spaces"
   ]
  },
  {
   "cell_type": "code",
   "execution_count": 22,
   "metadata": {},
   "outputs": [
    {
     "data": {
      "text/plain": [
       "array(['What', 's', 'to', 'like', 'about', 'this', 'movie', 'br', 'br',\n",
       "       'It', 'is', 'in', 'colour', 'br', 'br', 'It', 'has', 'some',\n",
       "       'impressive', 'underwater', 'photography', 'br', 'br', 'It', 'has',\n",
       "       'a', 'rhythmic', 'musical', 'score', 'in', 'the', 'background',\n",
       "       'that', 'works', 'well', 'at', 'times', 'br', 'br', 'So', '3',\n",
       "       'out', 'of', '10', 'br', 'br', 'Sometimes', 'the', 'music', 'is',\n",
       "       'speeded', 'up', 'Especially', 'when', 'the', 'shark', 'or', 'the',\n",
       "       'baddies', 'are', 'about', 'to', 'move', 'in', 'br', 'br',\n",
       "       'Sometimes', 'it', 'is', 'slowed', 'As', 'if', 'to', 'convey',\n",
       "       'to', 'the', 'audience', 'it', 's', 'about', 'to', 'be', 'time',\n",
       "       'for', 'sympathy', 'br', 'br', 'As', 'another', 'one', 'bites',\n",
       "       'the', 'dust', 'As', 'if', 'in', 'a', 'spagetti', 'Western',\n",
       "       'this', 'has', 'much', 'similarity', 'to', 'br', 'br', 'It', 's',\n",
       "       'not', 'that', 'the', 'Italians', 'can', 't', 'produce', 'quality',\n",
       "       'productions', 'There', 'was', 'a', 'series', 'of', 'TV', 'movies',\n",
       "       'with', 'a', 'heading', 'like', 'Octopus', 'numbered', 'about',\n",
       "       '1', 'to', '7', 'screened', 'on', 'SBS', 'TV', 'in', 'Australia',\n",
       "       'in', 'the', '1990s', 'about', 'mafia', 'type', 'conflicts', 'And',\n",
       "       'they', 'were', 'excellent', 'But', 'alas', 'you', 'won', 't',\n",
       "       'find', 'it', 'here', 'br', 'br', 'I', 'assumed', 'it', 'was',\n",
       "       'made', 'about', '1960s', 'Sadly', 'it', 'was', '20', 'years',\n",
       "       'out', 'of', 'date', 'as', 'evidenced', 'by', 'a', 'funeral',\n",
       "       'scene', 'near', 'the', 'end', 'br', 'br', 'Then', 'there', 'was',\n",
       "       'the', 'razor', 'sharp', 'bite', 'of', 'the', 'speedy', 'shark',\n",
       "       'that', 'makes', 'for', 'a', 'red', 'dust', 'repeatedly',\n",
       "       'emerging', 'in', 'the', 'bluish', 'waters', 'br', 'br', 'Amidst',\n",
       "       'it', 'all', 'either', 'in', 'bar', 'room', 'brawl', 'or', 'in',\n",
       "       'observing', 'the', 'latest', 'sea', 'side', 'bloody',\n",
       "       'demolition', 'by', 'the', 'relentlessly', 'hungry', 'shark',\n",
       "       'the', 'mate', 'of', 'the', 'hero', 'looks', 'on', 'through',\n",
       "       'his', 'glasses', 'of', 'little', 'concern', 'as', 'if', 'he',\n",
       "       'too', 'was', 'bored', 'in', 'his', 'relentless', 'role', 'amidst',\n",
       "       'a', 'lack', 'of', 'much', 'evidence', 'of', 'plot', 'or',\n",
       "       'anyone', 's', 'character', 'development', 'br', 'br', 'At',\n",
       "       'least', 'the', 'hero', 'indicates', 'a', 'fleeting', 'concern',\n",
       "       'belatedly', 'for', 'his', 'ex', 'wife', 'br', 'br', 'But', 'of',\n",
       "       'course', 'even', 'if', 'the', 'music', 'fails', 'to', 'awaken',\n",
       "       'our', 'realisation', 'we', 'have', 'the', 'sinister', 'sound',\n",
       "       'in', 'the', 'baddies', 'voices', 'as', 'if', 'to', 'nudge', 'us',\n",
       "       'that', 'another', 'dark', 'deed', 'is', 'about', 'to', 'emerge',\n",
       "       'br', 'br', 'And', 'near', 'the', 'end', 'someone', 'thought',\n",
       "       'of', 'a', 'twist', 'Just', 'when', 'we', 'thought', 'it', 'was',\n",
       "       'all', 'totally', 'predictable', 'But', 'stay', 'tuned', 'folks',\n",
       "       'for', 'you', 'may', 'find', 'another', 'twist', 'If', 'you',\n",
       "       'are', 'watching', 'closely', 'To', 'more', 'or', 'less', 'warm',\n",
       "       'your', 'heart', 'br', 'br', 'Follow', 'the', 'advice', 'of',\n",
       "       'the', 'hero', 'and', 'have', 'a', 'few', 'beers', 'along', 'the',\n",
       "       'way', 'It', 'll', 'make', 'your', 'viewing', 'of', 'Night', 'of',\n",
       "       'the', 'Sharks', 'more', 'enjoyable', 'br', 'br', 'Then', 'you',\n",
       "       'll', 'be', 'ready', 'for', 'something', 'like', 'a', '007',\n",
       "       'movie', 'to', 'ease', 'your', 'way', 'back', 'into', 'reality',\n",
       "       'when', 'this', 'is', 'over'], dtype='<U12')"
      ]
     },
     "execution_count": 22,
     "metadata": {},
     "output_type": "execute_result"
    }
   ],
   "source": [
    "ws = nltk.tokenize.WhitespaceTokenizer().tokenize(df[\"review\"].iloc[0])\n",
    "\n",
    "np.array(ws)"
   ]
  },
  {
   "cell_type": "markdown",
   "metadata": {},
   "source": [
    "# Tokenize using Punctuations"
   ]
  },
  {
   "cell_type": "code",
   "execution_count": 24,
   "metadata": {},
   "outputs": [
    {
     "data": {
      "text/plain": [
       "array(['What', 's', 'to', 'like', 'about', 'this', 'movie', 'br', 'br',\n",
       "       'It', 'is', 'in', 'colour', 'br', 'br', 'It', 'has', 'some',\n",
       "       'impressive', 'underwater', 'photography', 'br', 'br', 'It', 'has',\n",
       "       'a', 'rhythmic', 'musical', 'score', 'in', 'the', 'background',\n",
       "       'that', 'works', 'well', 'at', 'times', 'br', 'br', 'So', '3',\n",
       "       'out', 'of', '10', 'br', 'br', 'Sometimes', 'the', 'music', 'is',\n",
       "       'speeded', 'up', 'Especially', 'when', 'the', 'shark', 'or', 'the',\n",
       "       'baddies', 'are', 'about', 'to', 'move', 'in', 'br', 'br',\n",
       "       'Sometimes', 'it', 'is', 'slowed', 'As', 'if', 'to', 'convey',\n",
       "       'to', 'the', 'audience', 'it', 's', 'about', 'to', 'be', 'time',\n",
       "       'for', 'sympathy', 'br', 'br', 'As', 'another', 'one', 'bites',\n",
       "       'the', 'dust', 'As', 'if', 'in', 'a', 'spagetti', 'Western',\n",
       "       'this', 'has', 'much', 'similarity', 'to', 'br', 'br', 'It', 's',\n",
       "       'not', 'that', 'the', 'Italians', 'can', 't', 'produce', 'quality',\n",
       "       'productions', 'There', 'was', 'a', 'series', 'of', 'TV', 'movies',\n",
       "       'with', 'a', 'heading', 'like', 'Octopus', 'numbered', 'about',\n",
       "       '1', 'to', '7', 'screened', 'on', 'SBS', 'TV', 'in', 'Australia',\n",
       "       'in', 'the', '1990s', 'about', 'mafia', 'type', 'conflicts', 'And',\n",
       "       'they', 'were', 'excellent', 'But', 'alas', 'you', 'won', 't',\n",
       "       'find', 'it', 'here', 'br', 'br', 'I', 'assumed', 'it', 'was',\n",
       "       'made', 'about', '1960s', 'Sadly', 'it', 'was', '20', 'years',\n",
       "       'out', 'of', 'date', 'as', 'evidenced', 'by', 'a', 'funeral',\n",
       "       'scene', 'near', 'the', 'end', 'br', 'br', 'Then', 'there', 'was',\n",
       "       'the', 'razor', 'sharp', 'bite', 'of', 'the', 'speedy', 'shark',\n",
       "       'that', 'makes', 'for', 'a', 'red', 'dust', 'repeatedly',\n",
       "       'emerging', 'in', 'the', 'bluish', 'waters', 'br', 'br', 'Amidst',\n",
       "       'it', 'all', 'either', 'in', 'bar', 'room', 'brawl', 'or', 'in',\n",
       "       'observing', 'the', 'latest', 'sea', 'side', 'bloody',\n",
       "       'demolition', 'by', 'the', 'relentlessly', 'hungry', 'shark',\n",
       "       'the', 'mate', 'of', 'the', 'hero', 'looks', 'on', 'through',\n",
       "       'his', 'glasses', 'of', 'little', 'concern', 'as', 'if', 'he',\n",
       "       'too', 'was', 'bored', 'in', 'his', 'relentless', 'role', 'amidst',\n",
       "       'a', 'lack', 'of', 'much', 'evidence', 'of', 'plot', 'or',\n",
       "       'anyone', 's', 'character', 'development', 'br', 'br', 'At',\n",
       "       'least', 'the', 'hero', 'indicates', 'a', 'fleeting', 'concern',\n",
       "       'belatedly', 'for', 'his', 'ex', 'wife', 'br', 'br', 'But', 'of',\n",
       "       'course', 'even', 'if', 'the', 'music', 'fails', 'to', 'awaken',\n",
       "       'our', 'realisation', 'we', 'have', 'the', 'sinister', 'sound',\n",
       "       'in', 'the', 'baddies', 'voices', 'as', 'if', 'to', 'nudge', 'us',\n",
       "       'that', 'another', 'dark', 'deed', 'is', 'about', 'to', 'emerge',\n",
       "       'br', 'br', 'And', 'near', 'the', 'end', 'someone', 'thought',\n",
       "       'of', 'a', 'twist', 'Just', 'when', 'we', 'thought', 'it', 'was',\n",
       "       'all', 'totally', 'predictable', 'But', 'stay', 'tuned', 'folks',\n",
       "       'for', 'you', 'may', 'find', 'another', 'twist', 'If', 'you',\n",
       "       'are', 'watching', 'closely', 'To', 'more', 'or', 'less', 'warm',\n",
       "       'your', 'heart', 'br', 'br', 'Follow', 'the', 'advice', 'of',\n",
       "       'the', 'hero', 'and', 'have', 'a', 'few', 'beers', 'along', 'the',\n",
       "       'way', 'It', 'll', 'make', 'your', 'viewing', 'of', 'Night', 'of',\n",
       "       'the', 'Sharks', 'more', 'enjoyable', 'br', 'br', 'Then', 'you',\n",
       "       'll', 'be', 'ready', 'for', 'something', 'like', 'a', '007',\n",
       "       'movie', 'to', 'ease', 'your', 'way', 'back', 'into', 'reality',\n",
       "       'when', 'this', 'is', 'over'], dtype='<U12')"
      ]
     },
     "execution_count": 24,
     "metadata": {},
     "output_type": "execute_result"
    }
   ],
   "source": [
    "punct = nltk.tokenize.WordPunctTokenizer().tokenize(df[\"review\"].iloc[0])\n",
    "\n",
    "np.array(punct)\n"
   ]
  },
  {
   "cell_type": "markdown",
   "metadata": {},
   "source": [
    "# Tokenization using grammer rules"
   ]
  },
  {
   "cell_type": "code",
   "execution_count": 25,
   "metadata": {},
   "outputs": [
    {
     "data": {
      "text/plain": [
       "array(['What', 's', 'to', 'like', 'about', 'this', 'movie', 'br', 'br',\n",
       "       'It', 'is', 'in', 'colour', 'br', 'br', 'It', 'has', 'some',\n",
       "       'impressive', 'underwater', 'photography', 'br', 'br', 'It', 'has',\n",
       "       'a', 'rhythmic', 'musical', 'score', 'in', 'the', 'background',\n",
       "       'that', 'works', 'well', 'at', 'times', 'br', 'br', 'So', '3',\n",
       "       'out', 'of', '10', 'br', 'br', 'Sometimes', 'the', 'music', 'is',\n",
       "       'speeded', 'up', 'Especially', 'when', 'the', 'shark', 'or', 'the',\n",
       "       'baddies', 'are', 'about', 'to', 'move', 'in', 'br', 'br',\n",
       "       'Sometimes', 'it', 'is', 'slowed', 'As', 'if', 'to', 'convey',\n",
       "       'to', 'the', 'audience', 'it', 's', 'about', 'to', 'be', 'time',\n",
       "       'for', 'sympathy', 'br', 'br', 'As', 'another', 'one', 'bites',\n",
       "       'the', 'dust', 'As', 'if', 'in', 'a', 'spagetti', 'Western',\n",
       "       'this', 'has', 'much', 'similarity', 'to', 'br', 'br', 'It', 's',\n",
       "       'not', 'that', 'the', 'Italians', 'can', 't', 'produce', 'quality',\n",
       "       'productions', 'There', 'was', 'a', 'series', 'of', 'TV', 'movies',\n",
       "       'with', 'a', 'heading', 'like', 'Octopus', 'numbered', 'about',\n",
       "       '1', 'to', '7', 'screened', 'on', 'SBS', 'TV', 'in', 'Australia',\n",
       "       'in', 'the', '1990s', 'about', 'mafia', 'type', 'conflicts', 'And',\n",
       "       'they', 'were', 'excellent', 'But', 'alas', 'you', 'won', 't',\n",
       "       'find', 'it', 'here', 'br', 'br', 'I', 'assumed', 'it', 'was',\n",
       "       'made', 'about', '1960s', 'Sadly', 'it', 'was', '20', 'years',\n",
       "       'out', 'of', 'date', 'as', 'evidenced', 'by', 'a', 'funeral',\n",
       "       'scene', 'near', 'the', 'end', 'br', 'br', 'Then', 'there', 'was',\n",
       "       'the', 'razor', 'sharp', 'bite', 'of', 'the', 'speedy', 'shark',\n",
       "       'that', 'makes', 'for', 'a', 'red', 'dust', 'repeatedly',\n",
       "       'emerging', 'in', 'the', 'bluish', 'waters', 'br', 'br', 'Amidst',\n",
       "       'it', 'all', 'either', 'in', 'bar', 'room', 'brawl', 'or', 'in',\n",
       "       'observing', 'the', 'latest', 'sea', 'side', 'bloody',\n",
       "       'demolition', 'by', 'the', 'relentlessly', 'hungry', 'shark',\n",
       "       'the', 'mate', 'of', 'the', 'hero', 'looks', 'on', 'through',\n",
       "       'his', 'glasses', 'of', 'little', 'concern', 'as', 'if', 'he',\n",
       "       'too', 'was', 'bored', 'in', 'his', 'relentless', 'role', 'amidst',\n",
       "       'a', 'lack', 'of', 'much', 'evidence', 'of', 'plot', 'or',\n",
       "       'anyone', 's', 'character', 'development', 'br', 'br', 'At',\n",
       "       'least', 'the', 'hero', 'indicates', 'a', 'fleeting', 'concern',\n",
       "       'belatedly', 'for', 'his', 'ex', 'wife', 'br', 'br', 'But', 'of',\n",
       "       'course', 'even', 'if', 'the', 'music', 'fails', 'to', 'awaken',\n",
       "       'our', 'realisation', 'we', 'have', 'the', 'sinister', 'sound',\n",
       "       'in', 'the', 'baddies', 'voices', 'as', 'if', 'to', 'nudge', 'us',\n",
       "       'that', 'another', 'dark', 'deed', 'is', 'about', 'to', 'emerge',\n",
       "       'br', 'br', 'And', 'near', 'the', 'end', 'someone', 'thought',\n",
       "       'of', 'a', 'twist', 'Just', 'when', 'we', 'thought', 'it', 'was',\n",
       "       'all', 'totally', 'predictable', 'But', 'stay', 'tuned', 'folks',\n",
       "       'for', 'you', 'may', 'find', 'another', 'twist', 'If', 'you',\n",
       "       'are', 'watching', 'closely', 'To', 'more', 'or', 'less', 'warm',\n",
       "       'your', 'heart', 'br', 'br', 'Follow', 'the', 'advice', 'of',\n",
       "       'the', 'hero', 'and', 'have', 'a', 'few', 'beers', 'along', 'the',\n",
       "       'way', 'It', 'll', 'make', 'your', 'viewing', 'of', 'Night', 'of',\n",
       "       'the', 'Sharks', 'more', 'enjoyable', 'br', 'br', 'Then', 'you',\n",
       "       'll', 'be', 'ready', 'for', 'something', 'like', 'a', '007',\n",
       "       'movie', 'to', 'ease', 'your', 'way', 'back', 'into', 'reality',\n",
       "       'when', 'this', 'is', 'over'], dtype='<U12')"
      ]
     },
     "execution_count": 25,
     "metadata": {},
     "output_type": "execute_result"
    }
   ],
   "source": [
    "gr = nltk.tokenize.TreebankWordTokenizer().tokenize(df[\"review\"].iloc[0])\n",
    "\n",
    "np.array(gr)"
   ]
  },
  {
   "cell_type": "code",
   "execution_count": 26,
   "metadata": {},
   "outputs": [
    {
     "data": {
      "text/plain": [
       "'What s to like about this movie br br It is in colour br br It has some impressive underwater photography br br It has a rhythmic musical score in the background that works well at times br br So 3 out of 10 br br Sometimes the music is speeded up Especially when the shark or the baddies are about to move in br br Sometimes it is slowed As if to convey to the audience it s about to be time for sympathy br br As another one bites the dust As if in a spagetti Western this has much similarity to br br It s not that the Italians can t produce quality productions There was a series of TV movies with a heading like Octopus numbered about 1 to 7 screened on SBS TV in Australia in the 1990s about mafia type conflicts And they were excellent But alas you won t find it here br br I assumed it was made about 1960s Sadly it was 20 years out of date as evidenced by a funeral scene near the end br br Then there was the razor sharp bite of the speedy shark that makes for a red dust repeatedly emerging in the bluish waters br br Amidst it all either in bar room brawl or in observing the latest sea side bloody demolition by the relentlessly hungry shark the mate of the hero looks on through his glasses of little concern as if he too was bored in his relentless role amidst a lack of much evidence of plot or anyone s character development br br At least the hero indicates a fleeting concern belatedly for his ex wife br br But of course even if the music fails to awaken our realisation we have the sinister sound in the baddies voices as if to nudge us that another dark deed is about to emerge br br And near the end someone thought of a twist Just when we thought it was all totally predictable But stay tuned folks for you may find another twist If you are watching closely To more or less warm your heart br br Follow the advice of the hero and have a few beers along the way It ll make your viewing of Night of the Sharks more enjoyable br br Then you ll be ready for something like a 007 movie to ease your way back into reality when this is over '"
      ]
     },
     "execution_count": 26,
     "metadata": {},
     "output_type": "execute_result"
    }
   ],
   "source": [
    "df[\"review\"].iloc[0]"
   ]
  },
  {
   "cell_type": "markdown",
   "metadata": {},
   "source": [
    "# STEMMING"
   ]
  },
  {
   "cell_type": "code",
   "execution_count": 27,
   "metadata": {},
   "outputs": [
    {
     "data": {
      "text/html": [
       "<div>\n",
       "<style scoped>\n",
       "    .dataframe tbody tr th:only-of-type {\n",
       "        vertical-align: middle;\n",
       "    }\n",
       "\n",
       "    .dataframe tbody tr th {\n",
       "        vertical-align: top;\n",
       "    }\n",
       "\n",
       "    .dataframe thead th {\n",
       "        text-align: right;\n",
       "    }\n",
       "</style>\n",
       "<table border=\"1\" class=\"dataframe\">\n",
       "  <thead>\n",
       "    <tr style=\"text-align: right;\">\n",
       "      <th></th>\n",
       "      <th>OriginalWords</th>\n",
       "      <th>PorterStemmedWords</th>\n",
       "      <th>SnowballStemmedWords</th>\n",
       "    </tr>\n",
       "  </thead>\n",
       "  <tbody>\n",
       "    <tr>\n",
       "      <th>0</th>\n",
       "      <td>What</td>\n",
       "      <td>what</td>\n",
       "      <td>what</td>\n",
       "    </tr>\n",
       "    <tr>\n",
       "      <th>1</th>\n",
       "      <td>s</td>\n",
       "      <td>s</td>\n",
       "      <td>s</td>\n",
       "    </tr>\n",
       "    <tr>\n",
       "      <th>2</th>\n",
       "      <td>to</td>\n",
       "      <td>to</td>\n",
       "      <td>to</td>\n",
       "    </tr>\n",
       "    <tr>\n",
       "      <th>3</th>\n",
       "      <td>like</td>\n",
       "      <td>like</td>\n",
       "      <td>like</td>\n",
       "    </tr>\n",
       "    <tr>\n",
       "      <th>4</th>\n",
       "      <td>about</td>\n",
       "      <td>about</td>\n",
       "      <td>about</td>\n",
       "    </tr>\n",
       "    <tr>\n",
       "      <th>...</th>\n",
       "      <td>...</td>\n",
       "      <td>...</td>\n",
       "      <td>...</td>\n",
       "    </tr>\n",
       "    <tr>\n",
       "      <th>410</th>\n",
       "      <td>reality</td>\n",
       "      <td>realiti</td>\n",
       "      <td>realiti</td>\n",
       "    </tr>\n",
       "    <tr>\n",
       "      <th>411</th>\n",
       "      <td>when</td>\n",
       "      <td>when</td>\n",
       "      <td>when</td>\n",
       "    </tr>\n",
       "    <tr>\n",
       "      <th>412</th>\n",
       "      <td>this</td>\n",
       "      <td>thi</td>\n",
       "      <td>this</td>\n",
       "    </tr>\n",
       "    <tr>\n",
       "      <th>413</th>\n",
       "      <td>is</td>\n",
       "      <td>is</td>\n",
       "      <td>is</td>\n",
       "    </tr>\n",
       "    <tr>\n",
       "      <th>414</th>\n",
       "      <td>over</td>\n",
       "      <td>over</td>\n",
       "      <td>over</td>\n",
       "    </tr>\n",
       "  </tbody>\n",
       "</table>\n",
       "<p>415 rows × 3 columns</p>\n",
       "</div>"
      ],
      "text/plain": [
       "    OriginalWords PorterStemmedWords SnowballStemmedWords\n",
       "0            What               what                 what\n",
       "1               s                  s                    s\n",
       "2              to                 to                   to\n",
       "3            like               like                 like\n",
       "4           about              about                about\n",
       "..            ...                ...                  ...\n",
       "410       reality            realiti              realiti\n",
       "411          when               when                 when\n",
       "412          this                thi                 this\n",
       "413            is                 is                   is\n",
       "414          over               over                 over\n",
       "\n",
       "[415 rows x 3 columns]"
      ]
     },
     "execution_count": 27,
     "metadata": {},
     "output_type": "execute_result"
    }
   ],
   "source": [
    "# Original Words\n",
    "words  = nltk.tokenize.WhitespaceTokenizer().tokenize(df[\"review\"].iloc[0])\n",
    "stemm = pd.DataFrame()\n",
    "stemm['OriginalWords'] = pd.Series(words)\n",
    "\n",
    "# Porter's Stemmer\n",
    "porterStemmedWords = [nltk.stem.PorterStemmer().stem(word) for word in words]\n",
    "stemm['PorterStemmedWords'] = pd.Series(porterStemmedWords)\n",
    "\n",
    "# SnowBall Stemmer\n",
    "snowballStemmedWords = [nltk.stem.SnowballStemmer(\"english\").stem(word) for word in words]\n",
    "stemm['SnowballStemmedWords'] = pd.Series(snowballStemmedWords)\n",
    "stemm"
   ]
  },
  {
   "cell_type": "markdown",
   "metadata": {},
   "source": [
    "# LEMMATIZATION"
   ]
  },
  {
   "cell_type": "code",
   "execution_count": 28,
   "metadata": {},
   "outputs": [
    {
     "data": {
      "text/html": [
       "<div>\n",
       "<style scoped>\n",
       "    .dataframe tbody tr th:only-of-type {\n",
       "        vertical-align: middle;\n",
       "    }\n",
       "\n",
       "    .dataframe tbody tr th {\n",
       "        vertical-align: top;\n",
       "    }\n",
       "\n",
       "    .dataframe thead th {\n",
       "        text-align: right;\n",
       "    }\n",
       "</style>\n",
       "<table border=\"1\" class=\"dataframe\">\n",
       "  <thead>\n",
       "    <tr style=\"text-align: right;\">\n",
       "      <th></th>\n",
       "      <th>OriginalWords</th>\n",
       "      <th>WordNetLemmatizer</th>\n",
       "    </tr>\n",
       "  </thead>\n",
       "  <tbody>\n",
       "    <tr>\n",
       "      <th>0</th>\n",
       "      <td>What</td>\n",
       "      <td>What</td>\n",
       "    </tr>\n",
       "    <tr>\n",
       "      <th>1</th>\n",
       "      <td>s</td>\n",
       "      <td>s</td>\n",
       "    </tr>\n",
       "    <tr>\n",
       "      <th>2</th>\n",
       "      <td>to</td>\n",
       "      <td>to</td>\n",
       "    </tr>\n",
       "    <tr>\n",
       "      <th>3</th>\n",
       "      <td>like</td>\n",
       "      <td>like</td>\n",
       "    </tr>\n",
       "    <tr>\n",
       "      <th>4</th>\n",
       "      <td>about</td>\n",
       "      <td>about</td>\n",
       "    </tr>\n",
       "    <tr>\n",
       "      <th>...</th>\n",
       "      <td>...</td>\n",
       "      <td>...</td>\n",
       "    </tr>\n",
       "    <tr>\n",
       "      <th>410</th>\n",
       "      <td>reality</td>\n",
       "      <td>reality</td>\n",
       "    </tr>\n",
       "    <tr>\n",
       "      <th>411</th>\n",
       "      <td>when</td>\n",
       "      <td>when</td>\n",
       "    </tr>\n",
       "    <tr>\n",
       "      <th>412</th>\n",
       "      <td>this</td>\n",
       "      <td>this</td>\n",
       "    </tr>\n",
       "    <tr>\n",
       "      <th>413</th>\n",
       "      <td>is</td>\n",
       "      <td>is</td>\n",
       "    </tr>\n",
       "    <tr>\n",
       "      <th>414</th>\n",
       "      <td>over</td>\n",
       "      <td>over</td>\n",
       "    </tr>\n",
       "  </tbody>\n",
       "</table>\n",
       "<p>415 rows × 2 columns</p>\n",
       "</div>"
      ],
      "text/plain": [
       "    OriginalWords WordNetLemmatizer\n",
       "0            What              What\n",
       "1               s                 s\n",
       "2              to                to\n",
       "3            like              like\n",
       "4           about             about\n",
       "..            ...               ...\n",
       "410       reality           reality\n",
       "411          when              when\n",
       "412          this              this\n",
       "413            is                is\n",
       "414          over              over\n",
       "\n",
       "[415 rows x 2 columns]"
      ]
     },
     "execution_count": 28,
     "metadata": {},
     "output_type": "execute_result"
    }
   ],
   "source": [
    "words  = nltk.tokenize.WhitespaceTokenizer().tokenize(df[\"review\"].iloc[0])\n",
    "lemm = pd.DataFrame()\n",
    "lemm['OriginalWords'] = pd.Series(words)\n",
    "# WordNet Lemmatization\n",
    "wordNetLemmatizedWords = [nltk.stem.WordNetLemmatizer().lemmatize(word) for word in words]\n",
    "lemm['WordNetLemmatizer'] = pd.Series(wordNetLemmatizedWords)\n",
    "lemm"
   ]
  },
  {
   "cell_type": "code",
   "execution_count": null,
   "metadata": {},
   "outputs": [],
   "source": []
  }
 ],
 "metadata": {
  "kernelspec": {
   "display_name": "Python 3",
   "language": "python",
   "name": "python3"
  },
  "language_info": {
   "codemirror_mode": {
    "name": "ipython",
    "version": 3
   },
   "file_extension": ".py",
   "mimetype": "text/x-python",
   "name": "python",
   "nbconvert_exporter": "python",
   "pygments_lexer": "ipython3",
   "version": "3.7.3"
  }
 },
 "nbformat": 4,
 "nbformat_minor": 4
}

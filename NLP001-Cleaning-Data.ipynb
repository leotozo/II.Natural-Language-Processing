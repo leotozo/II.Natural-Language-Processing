{
 "cells": [
  {
   "cell_type": "markdown",
   "metadata": {},
   "source": [
    "# NLP - Data Cleaning        "
   ]
  },
  {
   "cell_type": "markdown",
   "metadata": {},
   "source": [
    "By [Leonardo Tozo](https://www.linkedin.com/in/leotozo/)"
   ]
  },
  {
   "cell_type": "markdown",
   "metadata": {},
   "source": [
    "****************************\n",
    "Hello,\n",
    "<br>This is part of my personal portfolio, my intention with this series of notebooks is to keep practicing and improving my A.I & Machine Learning skills.\n",
    " \n",
    "*Leonardo Tozo Bisinoto*\n",
    "<br>*MBA in Artificial Intelligence & Machine Learning*\n",
    "<br>*LinkedIn: https://www.linkedin.com/in/leotozo/*\n",
    "<br>*Github: https://github.com/leotozo*\n",
    "**************************** "
   ]
  },
  {
   "cell_type": "markdown",
   "metadata": {},
   "source": [
    "This data analysis uses the IMDB reviews dataset. I will perform a basic Data Cleaning using NLP techniques."
   ]
  },
  {
   "cell_type": "code",
   "execution_count": 76,
   "metadata": {},
   "outputs": [],
   "source": [
    "import matplotlib.pyplot as plt\n",
    "import numpy as np\n",
    "import pandas as pd"
   ]
  },
  {
   "cell_type": "markdown",
   "metadata": {},
   "source": [
    "# Reading the IMDB dataset."
   ]
  },
  {
   "cell_type": "code",
   "execution_count": 77,
   "metadata": {},
   "outputs": [],
   "source": [
    "df = pd.read_csv(\n",
    "    './imdb-dataset.csv',encoding='utf-8'\n",
    ").sample(10000)"
   ]
  },
  {
   "cell_type": "markdown",
   "metadata": {},
   "source": [
    "# Creating a copy of the dataset."
   ]
  },
  {
   "cell_type": "code",
   "execution_count": 78,
   "metadata": {},
   "outputs": [],
   "source": [
    "df_clean = df.copy()"
   ]
  },
  {
   "cell_type": "markdown",
   "metadata": {},
   "source": [
    "# Selecting only the 'review' column."
   ]
  },
  {
   "cell_type": "code",
   "execution_count": 79,
   "metadata": {},
   "outputs": [],
   "source": [
    "df_clean = df_clean.loc[:, ['review']]"
   ]
  },
  {
   "cell_type": "markdown",
   "metadata": {},
   "source": [
    "# Displaying the first 5 rows of the dataset."
   ]
  },
  {
   "cell_type": "code",
   "execution_count": 80,
   "metadata": {},
   "outputs": [
    {
     "data": {
      "text/html": [
       "<div>\n",
       "<style scoped>\n",
       "    .dataframe tbody tr th:only-of-type {\n",
       "        vertical-align: middle;\n",
       "    }\n",
       "\n",
       "    .dataframe tbody tr th {\n",
       "        vertical-align: top;\n",
       "    }\n",
       "\n",
       "    .dataframe thead th {\n",
       "        text-align: right;\n",
       "    }\n",
       "</style>\n",
       "<table border=\"1\" class=\"dataframe\">\n",
       "  <thead>\n",
       "    <tr style=\"text-align: right;\">\n",
       "      <th></th>\n",
       "      <th>review</th>\n",
       "    </tr>\n",
       "  </thead>\n",
       "  <tbody>\n",
       "    <tr>\n",
       "      <th>36431</th>\n",
       "      <td>Jane Eyre has always been my favorite novel! W...</td>\n",
       "    </tr>\n",
       "    <tr>\n",
       "      <th>21308</th>\n",
       "      <td>Skenbart takes place in the 1940s, right after...</td>\n",
       "    </tr>\n",
       "    <tr>\n",
       "      <th>46795</th>\n",
       "      <td>I saw this move several years ago at the Centr...</td>\n",
       "    </tr>\n",
       "    <tr>\n",
       "      <th>25041</th>\n",
       "      <td>Make no bones about it. There are a lot of thi...</td>\n",
       "    </tr>\n",
       "    <tr>\n",
       "      <th>2926</th>\n",
       "      <td>Oh it really really is. I've seen films that I...</td>\n",
       "    </tr>\n",
       "  </tbody>\n",
       "</table>\n",
       "</div>"
      ],
      "text/plain": [
       "                                                  review\n",
       "36431  Jane Eyre has always been my favorite novel! W...\n",
       "21308  Skenbart takes place in the 1940s, right after...\n",
       "46795  I saw this move several years ago at the Centr...\n",
       "25041  Make no bones about it. There are a lot of thi...\n",
       "2926   Oh it really really is. I've seen films that I..."
      ]
     },
     "execution_count": 80,
     "metadata": {},
     "output_type": "execute_result"
    }
   ],
   "source": [
    "df_clean.head()"
   ]
  },
  {
   "cell_type": "markdown",
   "metadata": {},
   "source": [
    "# Displaying the last 5 rows of the dataset."
   ]
  },
  {
   "cell_type": "code",
   "execution_count": 81,
   "metadata": {},
   "outputs": [
    {
     "data": {
      "text/html": [
       "<div>\n",
       "<style scoped>\n",
       "    .dataframe tbody tr th:only-of-type {\n",
       "        vertical-align: middle;\n",
       "    }\n",
       "\n",
       "    .dataframe tbody tr th {\n",
       "        vertical-align: top;\n",
       "    }\n",
       "\n",
       "    .dataframe thead th {\n",
       "        text-align: right;\n",
       "    }\n",
       "</style>\n",
       "<table border=\"1\" class=\"dataframe\">\n",
       "  <thead>\n",
       "    <tr style=\"text-align: right;\">\n",
       "      <th></th>\n",
       "      <th>review</th>\n",
       "    </tr>\n",
       "  </thead>\n",
       "  <tbody>\n",
       "    <tr>\n",
       "      <th>16191</th>\n",
       "      <td>This movie was talked about in Fangoria where ...</td>\n",
       "    </tr>\n",
       "    <tr>\n",
       "      <th>39737</th>\n",
       "      <td>I couldn't disagree more with those who says t...</td>\n",
       "    </tr>\n",
       "    <tr>\n",
       "      <th>46990</th>\n",
       "      <td>\"The Bone Snatcher\" starts out extremely promi...</td>\n",
       "    </tr>\n",
       "    <tr>\n",
       "      <th>42086</th>\n",
       "      <td>This film is my favorite comedy of all time an...</td>\n",
       "    </tr>\n",
       "    <tr>\n",
       "      <th>22680</th>\n",
       "      <td>Yes there are great performances here. Unfortu...</td>\n",
       "    </tr>\n",
       "  </tbody>\n",
       "</table>\n",
       "</div>"
      ],
      "text/plain": [
       "                                                  review\n",
       "16191  This movie was talked about in Fangoria where ...\n",
       "39737  I couldn't disagree more with those who says t...\n",
       "46990  \"The Bone Snatcher\" starts out extremely promi...\n",
       "42086  This film is my favorite comedy of all time an...\n",
       "22680  Yes there are great performances here. Unfortu..."
      ]
     },
     "execution_count": 81,
     "metadata": {},
     "output_type": "execute_result"
    }
   ],
   "source": [
    "df_clean.tail()"
   ]
  },
  {
   "cell_type": "markdown",
   "metadata": {},
   "source": [
    "# Counting the dataset rows."
   ]
  },
  {
   "cell_type": "code",
   "execution_count": 82,
   "metadata": {},
   "outputs": [
    {
     "data": {
      "text/plain": [
       "review    10000\n",
       "dtype: int64"
      ]
     },
     "execution_count": 82,
     "metadata": {},
     "output_type": "execute_result"
    }
   ],
   "source": [
    "df_clean.count()"
   ]
  },
  {
   "cell_type": "markdown",
   "metadata": {},
   "source": [
    "# Displaying basic info about the dataset."
   ]
  },
  {
   "cell_type": "code",
   "execution_count": 83,
   "metadata": {},
   "outputs": [
    {
     "name": "stdout",
     "output_type": "stream",
     "text": [
      "<class 'pandas.core.frame.DataFrame'>\n",
      "Int64Index: 10000 entries, 36431 to 22680\n",
      "Data columns (total 1 columns):\n",
      "review    10000 non-null object\n",
      "dtypes: object(1)\n",
      "memory usage: 156.2+ KB\n"
     ]
    }
   ],
   "source": [
    "df_clean.info()"
   ]
  },
  {
   "cell_type": "markdown",
   "metadata": {},
   "source": [
    "# Displaying the dataset shape (# of rows, # of columns)\n",
    " "
   ]
  },
  {
   "cell_type": "code",
   "execution_count": 84,
   "metadata": {},
   "outputs": [
    {
     "data": {
      "text/plain": [
       "(10000, 1)"
      ]
     },
     "execution_count": 84,
     "metadata": {},
     "output_type": "execute_result"
    }
   ],
   "source": [
    "df_clean.shape"
   ]
  },
  {
   "cell_type": "markdown",
   "metadata": {},
   "source": [
    "# Removing stopwords [Cleaning]\n",
    " "
   ]
  },
  {
   "cell_type": "code",
   "execution_count": 85,
   "metadata": {},
   "outputs": [
    {
     "data": {
      "text/html": [
       "<div>\n",
       "<style scoped>\n",
       "    .dataframe tbody tr th:only-of-type {\n",
       "        vertical-align: middle;\n",
       "    }\n",
       "\n",
       "    .dataframe tbody tr th {\n",
       "        vertical-align: top;\n",
       "    }\n",
       "\n",
       "    .dataframe thead th {\n",
       "        text-align: right;\n",
       "    }\n",
       "</style>\n",
       "<table border=\"1\" class=\"dataframe\">\n",
       "  <thead>\n",
       "    <tr style=\"text-align: right;\">\n",
       "      <th></th>\n",
       "      <th>review</th>\n",
       "    </tr>\n",
       "  </thead>\n",
       "  <tbody>\n",
       "    <tr>\n",
       "      <th>36431</th>\n",
       "      <td>Jane Eyre has always been my favorite novel! W...</td>\n",
       "    </tr>\n",
       "    <tr>\n",
       "      <th>21308</th>\n",
       "      <td>Skenbart takes place in the 1940s, right after...</td>\n",
       "    </tr>\n",
       "    <tr>\n",
       "      <th>46795</th>\n",
       "      <td>I saw this move several years ago at the Centr...</td>\n",
       "    </tr>\n",
       "    <tr>\n",
       "      <th>25041</th>\n",
       "      <td>Make no bones about it. There are a lot of thi...</td>\n",
       "    </tr>\n",
       "    <tr>\n",
       "      <th>2926</th>\n",
       "      <td>Oh it really really is. I've seen films that I...</td>\n",
       "    </tr>\n",
       "  </tbody>\n",
       "</table>\n",
       "</div>"
      ],
      "text/plain": [
       "                                                  review\n",
       "36431  Jane Eyre has always been my favorite novel! W...\n",
       "21308  Skenbart takes place in the 1940s, right after...\n",
       "46795  I saw this move several years ago at the Centr...\n",
       "25041  Make no bones about it. There are a lot of thi...\n",
       "2926   Oh it really really is. I've seen films that I..."
      ]
     },
     "execution_count": 85,
     "metadata": {},
     "output_type": "execute_result"
    }
   ],
   "source": [
    "df_clean.head()"
   ]
  },
  {
   "cell_type": "code",
   "execution_count": 86,
   "metadata": {},
   "outputs": [
    {
     "data": {
      "text/plain": [
       "10000"
      ]
     },
     "execution_count": 86,
     "metadata": {},
     "output_type": "execute_result"
    }
   ],
   "source": [
    "len(df_clean)"
   ]
  },
  {
   "cell_type": "markdown",
   "metadata": {},
   "source": [
    "# Extracting the stopwords from nltk library and displaying  \n"
   ]
  },
  {
   "cell_type": "code",
   "execution_count": 87,
   "metadata": {},
   "outputs": [
    {
     "data": {
      "text/plain": [
       "array(['i', 'me', 'my', 'myself', 'we', 'our', 'ours', 'ourselves', 'you',\n",
       "       \"you're\", \"you've\", \"you'll\", \"you'd\", 'your', 'yours', 'yourself',\n",
       "       'yourselves', 'he', 'him', 'his', 'himself', 'she', \"she's\", 'her',\n",
       "       'hers', 'herself', 'it', \"it's\", 'its', 'itself', 'they', 'them',\n",
       "       'their', 'theirs', 'themselves', 'what', 'which', 'who', 'whom',\n",
       "       'this', 'that', \"that'll\", 'these', 'those', 'am', 'is', 'are',\n",
       "       'was', 'were', 'be', 'been', 'being', 'have', 'has', 'had',\n",
       "       'having', 'do', 'does', 'did', 'doing', 'a', 'an', 'the', 'and',\n",
       "       'but', 'if', 'or', 'because', 'as', 'until', 'while', 'of', 'at',\n",
       "       'by', 'for', 'with', 'about', 'against', 'between', 'into',\n",
       "       'through', 'during', 'before', 'after', 'above', 'below', 'to',\n",
       "       'from', 'up', 'down', 'in', 'out', 'on', 'off', 'over', 'under',\n",
       "       'again', 'further', 'then', 'once', 'here', 'there', 'when',\n",
       "       'where', 'why', 'how', 'all', 'any', 'both', 'each', 'few', 'more',\n",
       "       'most', 'other', 'some', 'such', 'no', 'nor', 'not', 'only', 'own',\n",
       "       'same', 'so', 'than', 'too', 'very', 's', 't', 'can', 'will',\n",
       "       'just', 'don', \"don't\", 'should', \"should've\", 'now', 'd', 'll',\n",
       "       'm', 'o', 're', 've', 'y', 'ain', 'aren', \"aren't\", 'couldn',\n",
       "       \"couldn't\", 'didn', \"didn't\", 'doesn', \"doesn't\", 'hadn', \"hadn't\",\n",
       "       'hasn', \"hasn't\", 'haven', \"haven't\", 'isn', \"isn't\", 'ma',\n",
       "       'mightn', \"mightn't\", 'mustn', \"mustn't\", 'needn', \"needn't\",\n",
       "       'shan', \"shan't\", 'shouldn', \"shouldn't\", 'wasn', \"wasn't\",\n",
       "       'weren', \"weren't\", 'won', \"won't\", 'wouldn', \"wouldn't\"],\n",
       "      dtype='<U10')"
      ]
     },
     "execution_count": 87,
     "metadata": {},
     "output_type": "execute_result"
    }
   ],
   "source": [
    "import nltk\n",
    "from nltk.corpus import stopwords\n",
    "\n",
    "sw = stopwords.words('english')\n",
    "np.array(sw)\n"
   ]
  },
  {
   "cell_type": "code",
   "execution_count": 88,
   "metadata": {},
   "outputs": [
    {
     "name": "stdout",
     "output_type": "stream",
     "text": [
      "Number of stopwords:  179\n"
     ]
    }
   ],
   "source": [
    "print(\"Number of stopwords: \", len(sw))"
   ]
  },
  {
   "cell_type": "code",
   "execution_count": 89,
   "metadata": {},
   "outputs": [
    {
     "name": "stdout",
     "output_type": "stream",
     "text": [
      "['i', 'me', 'my', 'myself', 'we', 'our', 'ours', 'ourselves', 'you', \"you're\"]\n"
     ]
    }
   ],
   "source": [
    "print(nltk.corpus.stopwords.words('english')[:10])"
   ]
  },
  {
   "cell_type": "markdown",
   "metadata": {},
   "source": [
    "# A function for removing the stopwords"
   ]
  },
  {
   "cell_type": "code",
   "execution_count": 90,
   "metadata": {},
   "outputs": [],
   "source": [
    "def stopwords(text):\n",
    "    '''a function for removing the stopword'''\n",
    "    # removing the stop words and lowercasing the selected words\n",
    "    text = [word.lower() for word in text.split() if word.lower() not in sw]\n",
    "    # joining the list of words with space separator\n",
    "    return \" \".join(text)"
   ]
  },
  {
   "cell_type": "code",
   "execution_count": 91,
   "metadata": {},
   "outputs": [
    {
     "data": {
      "text/plain": [
       "36431    jane eyre always favorite novel! stumbled upon...\n",
       "21308    skenbart takes place 1940s, right second world...\n",
       "46795    saw move several years ago central florida fil...\n",
       "25041    make bones it. lot things wrong movie. clichéd...\n",
       "2926     oh really really is. i've seen films disliked ...\n",
       "38519    heck about? kelly (jennifer) seems drop moral ...\n",
       "4833     kids hiking mountains, one goes large tunnel d...\n",
       "42799    watched part first part movie, tiny little bit...\n",
       "22679    new approach comedy. funny.<br /><br />the jok...\n",
       "17989    oh, man, sure knew make back then. hollywood f...\n",
       "Name: review, dtype: object"
      ]
     },
     "execution_count": 91,
     "metadata": {},
     "output_type": "execute_result"
    }
   ],
   "source": [
    "df_clean['review'] = df_clean['review'].apply(stopwords)\n",
    "df_clean['review'].head(10)"
   ]
  },
  {
   "cell_type": "code",
   "execution_count": 92,
   "metadata": {},
   "outputs": [
    {
     "name": "stdout",
     "output_type": "stream",
     "text": [
      "UNIGRAMS with STOPWORDS 52370\n"
     ]
    }
   ],
   "source": [
    "from sklearn.feature_extraction.text import CountVectorizer\n",
    "\n",
    "df_withstopwords = df.copy()\n",
    "vect = CountVectorizer(ngram_range=(1,1))\n",
    "vect.fit(df_withstopwords.review)\n",
    "text_vect = vect.transform(df_withstopwords.review)\n",
    "\n",
    "print('UNIGRAMS with STOPWORDS', text_vect.shape[1])"
   ]
  },
  {
   "cell_type": "code",
   "execution_count": 93,
   "metadata": {},
   "outputs": [
    {
     "name": "stdout",
     "output_type": "stream",
     "text": [
      "UNIGRAMS without STOPWORDS 52226\n"
     ]
    }
   ],
   "source": [
    "from sklearn.feature_extraction.text import CountVectorizer\n",
    "\n",
    "df_withoutstopwords = df_clean.copy()\n",
    "vect = CountVectorizer(ngram_range=(1,1), stop_words=sw)\n",
    "vect.fit(df_withoutstopwords.review)\n",
    "text_vect = vect.transform(df_withoutstopwords.review)\n",
    "\n",
    "print('UNIGRAMS without STOPWORDS', text_vect.shape[1])"
   ]
  },
  {
   "cell_type": "code",
   "execution_count": 94,
   "metadata": {},
   "outputs": [
    {
     "data": {
      "text/html": [
       "<div>\n",
       "<style scoped>\n",
       "    .dataframe tbody tr th:only-of-type {\n",
       "        vertical-align: middle;\n",
       "    }\n",
       "\n",
       "    .dataframe tbody tr th {\n",
       "        vertical-align: top;\n",
       "    }\n",
       "\n",
       "    .dataframe thead th {\n",
       "        text-align: right;\n",
       "    }\n",
       "</style>\n",
       "<table border=\"1\" class=\"dataframe\">\n",
       "  <thead>\n",
       "    <tr style=\"text-align: right;\">\n",
       "      <th></th>\n",
       "      <th>review</th>\n",
       "    </tr>\n",
       "  </thead>\n",
       "  <tbody>\n",
       "    <tr>\n",
       "      <th>36431</th>\n",
       "      <td>jane eyre always favorite novel! stumbled upon...</td>\n",
       "    </tr>\n",
       "    <tr>\n",
       "      <th>21308</th>\n",
       "      <td>skenbart takes place 1940s, right second world...</td>\n",
       "    </tr>\n",
       "    <tr>\n",
       "      <th>46795</th>\n",
       "      <td>saw move several years ago central florida fil...</td>\n",
       "    </tr>\n",
       "    <tr>\n",
       "      <th>25041</th>\n",
       "      <td>make bones it. lot things wrong movie. clichéd...</td>\n",
       "    </tr>\n",
       "    <tr>\n",
       "      <th>2926</th>\n",
       "      <td>oh really really is. i've seen films disliked ...</td>\n",
       "    </tr>\n",
       "    <tr>\n",
       "      <th>38519</th>\n",
       "      <td>heck about? kelly (jennifer) seems drop moral ...</td>\n",
       "    </tr>\n",
       "    <tr>\n",
       "      <th>4833</th>\n",
       "      <td>kids hiking mountains, one goes large tunnel d...</td>\n",
       "    </tr>\n",
       "    <tr>\n",
       "      <th>42799</th>\n",
       "      <td>watched part first part movie, tiny little bit...</td>\n",
       "    </tr>\n",
       "    <tr>\n",
       "      <th>22679</th>\n",
       "      <td>new approach comedy. funny.&lt;br /&gt;&lt;br /&gt;the jok...</td>\n",
       "    </tr>\n",
       "    <tr>\n",
       "      <th>17989</th>\n",
       "      <td>oh, man, sure knew make back then. hollywood f...</td>\n",
       "    </tr>\n",
       "  </tbody>\n",
       "</table>\n",
       "</div>"
      ],
      "text/plain": [
       "                                                  review\n",
       "36431  jane eyre always favorite novel! stumbled upon...\n",
       "21308  skenbart takes place 1940s, right second world...\n",
       "46795  saw move several years ago central florida fil...\n",
       "25041  make bones it. lot things wrong movie. clichéd...\n",
       "2926   oh really really is. i've seen films disliked ...\n",
       "38519  heck about? kelly (jennifer) seems drop moral ...\n",
       "4833   kids hiking mountains, one goes large tunnel d...\n",
       "42799  watched part first part movie, tiny little bit...\n",
       "22679  new approach comedy. funny.<br /><br />the jok...\n",
       "17989  oh, man, sure knew make back then. hollywood f..."
      ]
     },
     "execution_count": 94,
     "metadata": {},
     "output_type": "execute_result"
    }
   ],
   "source": [
    "df_clean.head(10)"
   ]
  },
  {
   "cell_type": "markdown",
   "metadata": {},
   "source": [
    "# Show the 10 most occurring words"
   ]
  },
  {
   "cell_type": "code",
   "execution_count": 95,
   "metadata": {},
   "outputs": [],
   "source": [
    "from collections import Counter\n",
    "c = Counter()"
   ]
  },
  {
   "cell_type": "code",
   "execution_count": 96,
   "metadata": {},
   "outputs": [
    {
     "data": {
      "text/plain": [
       "[('/><br', 19571),\n",
       " ('movie', 12202),\n",
       " ('film', 10903),\n",
       " ('one', 8882),\n",
       " ('like', 7496),\n",
       " ('would', 4781),\n",
       " ('even', 4730),\n",
       " ('good', 4604),\n",
       " ('really', 4306),\n",
       " ('see', 4209)]"
      ]
     },
     "execution_count": 96,
     "metadata": {},
     "output_type": "execute_result"
    }
   ],
   "source": [
    "df_clean.review.str.lower().str.split(\" \").apply(c.update)\n",
    "c.most_common(10)"
   ]
  },
  {
   "cell_type": "markdown",
   "metadata": {},
   "source": [
    "# Stemming"
   ]
  },
  {
   "cell_type": "code",
   "execution_count": 97,
   "metadata": {},
   "outputs": [
    {
     "name": "stdout",
     "output_type": "stream",
     "text": [
      "\n",
      "--------Before Stemming--------\n",
      "\n",
      "36431    jane eyre always favorite novel! stumbled upon...\n",
      "21308    skenbart takes place 1940s, right second world...\n",
      "46795    saw move several years ago central florida fil...\n",
      "25041    make bones it. lot things wrong movie. clichéd...\n",
      "2926     oh really really is. i've seen films disliked ...\n",
      "Name: review, dtype: object\n",
      "\n",
      "--------Stemming--------\n",
      "\n"
     ]
    },
    {
     "data": {
      "text/plain": [
       "36431    jane eyr alway favorit novel! stumbl upon movi...\n",
       "21308    skenbart take place 1940s, right second world ...\n",
       "46795    saw move sever year ago central florida film f...\n",
       "25041    make bone it. lot thing wrong movie. clichéd w...\n",
       "2926     oh realli realli is. i'v seen film dislik more...\n",
       "Name: Stemming, dtype: object"
      ]
     },
     "execution_count": 97,
     "metadata": {},
     "output_type": "execute_result"
    }
   ],
   "source": [
    "from nltk.stem.porter import *\n",
    "pd.options.mode.chained_assignment = None\n",
    "\n",
    "short_data = df_clean.head()\n",
    "\n",
    "ps = PorterStemmer()\n",
    "\n",
    "short_data['Stemming'] = short_data['review'].apply(lambda x: ' '.join([ps.stem(word) for word in x.split() ]))\n",
    "print('\\n--------Before Stemming--------\\n')\n",
    "print(short_data['review'])\n",
    "print('\\n--------Stemming--------\\n')\n",
    "short_data['Stemming']"
   ]
  },
  {
   "cell_type": "markdown",
   "metadata": {},
   "source": [
    "# Lemmazation"
   ]
  },
  {
   "cell_type": "code",
   "execution_count": 98,
   "metadata": {},
   "outputs": [
    {
     "name": "stdout",
     "output_type": "stream",
     "text": [
      "\n",
      "--------Before Lemmazation--------\n",
      "\n",
      "36431    jane eyre always favorite novel! stumbled upon...\n",
      "21308    skenbart takes place 1940s, right second world...\n",
      "46795    saw move several years ago central florida fil...\n",
      "25041    make bones it. lot things wrong movie. clichéd...\n",
      "2926     oh really really is. i've seen films disliked ...\n",
      "Name: review, dtype: object\n",
      "\n",
      "--------Lemmazation--------\n",
      "\n"
     ]
    },
    {
     "data": {
      "text/plain": [
       "36431    jane eyre always favorite novel! stumble upon ...\n",
       "21308    skenbart take place 1940s, right second world ...\n",
       "46795    saw move several years ago central florida fil...\n",
       "25041    make bone it. lot things wrong movie. clichéd ...\n",
       "2926     oh really really is. i've see film dislike mor...\n",
       "Name: Lemmazation, dtype: object"
      ]
     },
     "execution_count": 98,
     "metadata": {},
     "output_type": "execute_result"
    }
   ],
   "source": [
    "from nltk.stem.wordnet import WordNetLemmatizer\n",
    "lmtzr = WordNetLemmatizer()\n",
    "\n",
    "print('\\n--------Before Lemmazation--------\\n')\n",
    "print(short_data['review'])\n",
    "print('\\n--------Lemmazation--------\\n')\n",
    "short_data['Lemmazation'] = short_data['review'].apply(lambda x: ' '.join([lmtzr.lemmatize(word,'v') for word in x.split() ]))\n",
    "short_data['Lemmazation']"
   ]
  },
  {
   "cell_type": "code",
   "execution_count": 99,
   "metadata": {},
   "outputs": [
    {
     "name": "stdout",
     "output_type": "stream",
     "text": [
      "\n",
      "--------Before Part of Speech Tagging--------\n",
      "\n",
      "36431    jane eyre always favorite novel! stumbled upon...\n",
      "21308    skenbart takes place 1940s, right second world...\n",
      "46795    saw move several years ago central florida fil...\n",
      "25041    make bones it. lot things wrong movie. clichéd...\n",
      "2926     oh really really is. i've seen films disliked ...\n",
      "Name: review, dtype: object\n",
      "\n",
      "--------Part of Speech Tagging--------\n",
      "\n",
      "36431    [(jane, NN), (eyre, NN), (always, RB), (favori...\n",
      "21308    [(skenbart, NN), (takes, VBZ), (place, NN), (1...\n",
      "46795    [(saw, JJ), (move, IN), (several, JJ), (years,...\n",
      "25041    [(make, VB), (bones, NNS), (it, PRP), (., .), ...\n",
      "2926     [(oh, UH), (really, RB), (really, RB), (is, VB...\n",
      "Name: SpeechTagging, dtype: object\n"
     ]
    }
   ],
   "source": [
    "print('\\n--------Before Part of Speech Tagging--------\\n')\n",
    "print(short_data['review'])\n",
    "print('\\n--------Part of Speech Tagging--------\\n')\n",
    "short_data['SpeechTagging'] = short_data['review'].apply(lambda x: nltk.pos_tag(nltk.word_tokenize(x)))\n",
    "print(short_data['SpeechTagging'])"
   ]
  },
  {
   "cell_type": "markdown",
   "metadata": {},
   "source": [
    "# Capitalization"
   ]
  },
  {
   "cell_type": "code",
   "execution_count": 100,
   "metadata": {},
   "outputs": [
    {
     "name": "stdout",
     "output_type": "stream",
     "text": [
      "\n",
      "--------Before Capitalization--------\n",
      "\n",
      "36431    jane eyre always favorite novel! stumbled upon...\n",
      "21308    skenbart takes place 1940s, right second world...\n",
      "46795    saw move several years ago central florida fil...\n",
      "25041    make bones it. lot things wrong movie. clichéd...\n",
      "2926     oh really really is. i've seen films disliked ...\n",
      "Name: review, dtype: object\n",
      "\n",
      "--------Capitalization--------\n",
      "\n",
      "36431    JANE EYRE ALWAYS FAVORITE NOVEL! STUMBLED UPON...\n",
      "21308    SKENBART TAKES PLACE 1940S, RIGHT SECOND WORLD...\n",
      "46795    SAW MOVE SEVERAL YEARS AGO CENTRAL FLORIDA FIL...\n",
      "25041    MAKE BONES IT. LOT THINGS WRONG MOVIE. CLICHÉD...\n",
      "2926     OH REALLY REALLY IS. I'VE SEEN FILMS DISLIKED ...\n",
      "Name: Capitalization, dtype: object\n"
     ]
    }
   ],
   "source": [
    "print('\\n--------Before Capitalization--------\\n')\n",
    "print(short_data['review'])\n",
    "print('\\n--------Capitalization--------\\n')\n",
    "short_data['Capitalization'] = short_data['review'].apply(  lambda x: ' '.join( [ word.upper() for word in x.split() ] ) )\n",
    "print(short_data['Capitalization'])"
   ]
  }
 ],
 "metadata": {
  "kernelspec": {
   "display_name": "Python 3",
   "language": "python",
   "name": "python3"
  },
  "language_info": {
   "codemirror_mode": {
    "name": "ipython",
    "version": 3
   },
   "file_extension": ".py",
   "mimetype": "text/x-python",
   "name": "python",
   "nbconvert_exporter": "python",
   "pygments_lexer": "ipython3",
   "version": "3.7.3"
  }
 },
 "nbformat": 4,
 "nbformat_minor": 4
}

{
 "cells": [
  {
   "cell_type": "markdown",
   "metadata": {},
   "source": [
    "# NLP - Count Verbs"
   ]
  },
  {
   "cell_type": "markdown",
   "metadata": {},
   "source": [
    "By [Leonardo Tozo](https://www.linkedin.com/in/leotozo/)"
   ]
  },
  {
   "cell_type": "markdown",
   "metadata": {},
   "source": [
    "****************************\n",
    "Hello,\n",
    "<br>This is part of my personal portfolio, my intention with this series of notebooks is to keep practicing and improving my A.I & Machine Learning skills.\n",
    " \n",
    "*Leonardo Tozo Bisinoto*\n",
    "<br>*MBA in Artificial Intelligence & Machine Learning*\n",
    "<br>*LinkedIn: https://www.linkedin.com/in/leotozo/*\n",
    "<br>*Github: https://github.com/leotozo*\n",
    "**************************** "
   ]
  },
  {
   "cell_type": "markdown",
   "metadata": {},
   "source": [
    "This data analysis uses the IMDB reviews dataset. I will perform a basic NLP techniques."
   ]
  },
  {
   "cell_type": "code",
   "execution_count": 1,
   "metadata": {},
   "outputs": [],
   "source": [
    "import pandas as pd"
   ]
  },
  {
   "cell_type": "markdown",
   "metadata": {},
   "source": [
    "# Reading the IMDB dataset."
   ]
  },
  {
   "cell_type": "code",
   "execution_count": 6,
   "metadata": {},
   "outputs": [],
   "source": [
    "df = pd.read_csv(\n",
    "    './movies.csv',encoding='utf-8'\n",
    ").sample(10000)\n"
   ]
  },
  {
   "cell_type": "markdown",
   "metadata": {},
   "source": [
    "# Describing the IMDB dataset."
   ]
  },
  {
   "cell_type": "code",
   "execution_count": 8,
   "metadata": {},
   "outputs": [
    {
     "data": {
      "text/html": [
       "<div>\n",
       "<style scoped>\n",
       "    .dataframe tbody tr th:only-of-type {\n",
       "        vertical-align: middle;\n",
       "    }\n",
       "\n",
       "    .dataframe tbody tr th {\n",
       "        vertical-align: top;\n",
       "    }\n",
       "\n",
       "    .dataframe thead th {\n",
       "        text-align: right;\n",
       "    }\n",
       "</style>\n",
       "<table border=\"1\" class=\"dataframe\">\n",
       "  <thead>\n",
       "    <tr style=\"text-align: right;\">\n",
       "      <th></th>\n",
       "      <th>review</th>\n",
       "      <th>sentiment</th>\n",
       "    </tr>\n",
       "  </thead>\n",
       "  <tbody>\n",
       "    <tr>\n",
       "      <th>count</th>\n",
       "      <td>10000</td>\n",
       "      <td>10000</td>\n",
       "    </tr>\n",
       "    <tr>\n",
       "      <th>unique</th>\n",
       "      <td>9981</td>\n",
       "      <td>2</td>\n",
       "    </tr>\n",
       "    <tr>\n",
       "      <th>top</th>\n",
       "      <td>Alfred Hitchcock invented any kind of thriller...</td>\n",
       "      <td>negative</td>\n",
       "    </tr>\n",
       "    <tr>\n",
       "      <th>freq</th>\n",
       "      <td>2</td>\n",
       "      <td>5007</td>\n",
       "    </tr>\n",
       "  </tbody>\n",
       "</table>\n",
       "</div>"
      ],
      "text/plain": [
       "                                                   review sentiment\n",
       "count                                               10000     10000\n",
       "unique                                               9981         2\n",
       "top     Alfred Hitchcock invented any kind of thriller...  negative\n",
       "freq                                                    2      5007"
      ]
     },
     "execution_count": 8,
     "metadata": {},
     "output_type": "execute_result"
    }
   ],
   "source": [
    "df.describe()"
   ]
  },
  {
   "cell_type": "markdown",
   "metadata": {},
   "source": [
    "# Displaying the first 5 rows of the dataset."
   ]
  },
  {
   "cell_type": "code",
   "execution_count": 9,
   "metadata": {},
   "outputs": [
    {
     "data": {
      "text/html": [
       "<div>\n",
       "<style scoped>\n",
       "    .dataframe tbody tr th:only-of-type {\n",
       "        vertical-align: middle;\n",
       "    }\n",
       "\n",
       "    .dataframe tbody tr th {\n",
       "        vertical-align: top;\n",
       "    }\n",
       "\n",
       "    .dataframe thead th {\n",
       "        text-align: right;\n",
       "    }\n",
       "</style>\n",
       "<table border=\"1\" class=\"dataframe\">\n",
       "  <thead>\n",
       "    <tr style=\"text-align: right;\">\n",
       "      <th></th>\n",
       "      <th>review</th>\n",
       "      <th>sentiment</th>\n",
       "    </tr>\n",
       "  </thead>\n",
       "  <tbody>\n",
       "    <tr>\n",
       "      <th>18086</th>\n",
       "      <td>I was 15 years old when this movie premiered o...</td>\n",
       "      <td>positive</td>\n",
       "    </tr>\n",
       "    <tr>\n",
       "      <th>48348</th>\n",
       "      <td>Yes, my summary just about tells it all.&lt;br /&gt;...</td>\n",
       "      <td>negative</td>\n",
       "    </tr>\n",
       "    <tr>\n",
       "      <th>8664</th>\n",
       "      <td>Lou Gossett, Jr. is great as 'Chappy Sinclair'...</td>\n",
       "      <td>positive</td>\n",
       "    </tr>\n",
       "    <tr>\n",
       "      <th>7677</th>\n",
       "      <td>I really liked Get Shorty, but this movie was ...</td>\n",
       "      <td>negative</td>\n",
       "    </tr>\n",
       "    <tr>\n",
       "      <th>19679</th>\n",
       "      <td>This movie was astonishing. It is beyond atroc...</td>\n",
       "      <td>negative</td>\n",
       "    </tr>\n",
       "  </tbody>\n",
       "</table>\n",
       "</div>"
      ],
      "text/plain": [
       "                                                  review sentiment\n",
       "18086  I was 15 years old when this movie premiered o...  positive\n",
       "48348  Yes, my summary just about tells it all.<br />...  negative\n",
       "8664   Lou Gossett, Jr. is great as 'Chappy Sinclair'...  positive\n",
       "7677   I really liked Get Shorty, but this movie was ...  negative\n",
       "19679  This movie was astonishing. It is beyond atroc...  negative"
      ]
     },
     "execution_count": 9,
     "metadata": {},
     "output_type": "execute_result"
    }
   ],
   "source": [
    "df.head()"
   ]
  },
  {
   "cell_type": "markdown",
   "metadata": {},
   "source": [
    "# Removing the missing values."
   ]
  },
  {
   "cell_type": "code",
   "execution_count": 11,
   "metadata": {},
   "outputs": [],
   "source": [
    "df.dropna(inplace=True)\n"
   ]
  },
  {
   "cell_type": "markdown",
   "metadata": {},
   "source": [
    "# Displaying the dataset shape (# of rows, # of columns)\n"
   ]
  },
  {
   "cell_type": "code",
   "execution_count": 14,
   "metadata": {},
   "outputs": [
    {
     "data": {
      "text/plain": [
       "(10000, 2)"
      ]
     },
     "execution_count": 14,
     "metadata": {},
     "output_type": "execute_result"
    }
   ],
   "source": [
    "df.shape"
   ]
  },
  {
   "cell_type": "markdown",
   "metadata": {},
   "source": [
    "# Creating a new colounnm name + description"
   ]
  },
  {
   "cell_type": "code",
   "execution_count": 16,
   "metadata": {},
   "outputs": [
    {
     "data": {
      "text/plain": [
       "\"One of the other reviewers has mentioned that after watching just 1 Oz episode you'll be hooked. They are right, as this is exactly what happened with me.<br /><br />The first thing that struck me about Oz was its brutality and unflinching scenes of violence, which set in right from the word GO. Trust me, this is not a show for the faint hearted or timid. This show pulls no punches with regards to drugs, sex or violence. Its is hardcore, in the classic use of the word.<br /><br />It is called OZ as that is the nickname given to the Oswald Maximum Security State Penitentary. It focuses mainly on Emerald City, an experimental section of the prison where all the cells have glass fronts and face inwards, so privacy is not high on the agenda. Em City is home to many..Aryans, Muslims, gangstas, Latinos, Christians, Italians, Irish and more....so scuffles, death stares, dodgy dealings and shady agreements are never far away.<br /><br />I would say the main appeal of the show is due to the fact that it goes where other shows wouldn't dare. Forget pretty pictures painted for mainstream audiences, forget charm, forget romance...OZ doesn't mess around. The first episode I ever saw struck me as so nasty it was surreal, I couldn't say I was ready for it, but as I watched more, I developed a taste for Oz, and got accustomed to the high levels of graphic violence. Not just violence, but injustice (crooked guards who'll be sold out for a nickel, inmates who'll kill on order and get away with it, well mannered, middle class inmates being turned into prison bitches due to their lack of street skills or prison experience) Watching Oz, you may become comfortable with what is uncomfortable viewing....thats if you can get in touch with your darker side. positive\""
      ]
     },
     "execution_count": 16,
     "metadata": {},
     "output_type": "execute_result"
    }
   ],
   "source": [
    "df[\"reviews\"] = df['review'] + \" \" + df['sentiment']\n",
    "\n",
    "df.reviews[0]"
   ]
  },
  {
   "cell_type": "markdown",
   "metadata": {},
   "source": [
    "## How manay Unigrams are there before and after removing stopwords \n"
   ]
  },
  {
   "cell_type": "code",
   "execution_count": 10,
   "metadata": {},
   "outputs": [
    {
     "name": "stderr",
     "output_type": "stream",
     "text": [
      "[nltk_data] Downloading package stopwords to\n",
      "[nltk_data]     C:\\Users\\LEONARDOTOZOBISINOTO\\AppData\\Roaming\\nltk_dat\n",
      "[nltk_data]     a...\n",
      "[nltk_data]   Package stopwords is already up-to-date!\n"
     ]
    },
    {
     "data": {
      "text/plain": [
       "True"
      ]
     },
     "execution_count": 10,
     "metadata": {},
     "output_type": "execute_result"
    }
   ],
   "source": [
    "import nltk\n",
    "nltk.download('stopwords')"
   ]
  },
  {
   "cell_type": "markdown",
   "metadata": {},
   "source": [
    "## Unigrams count before and after removing the stopwords"
   ]
  },
  {
   "cell_type": "code",
   "execution_count": 32,
   "metadata": {},
   "outputs": [
    {
     "name": "stdout",
     "output_type": "stream",
     "text": [
      "UNIGRAMS with the STOPWORDS 35466\n"
     ]
    }
   ],
   "source": [
    "from sklearn.feature_extraction.text import CountVectorizer\n",
    "\n",
    "vect = CountVectorizer(ngram_range=(1,1))\n",
    "vect.fit(df.texto)\n",
    "text_vect = vect.transform(df.texto)\n",
    "\n",
    "print('UNIGRAMS with the STOPWORDS', text_vect.shape[1])"
   ]
  },
  {
   "cell_type": "code",
   "execution_count": 33,
   "metadata": {},
   "outputs": [
    {
     "name": "stdout",
     "output_type": "stream",
     "text": [
      "UNIGRAMS without the STOPWORDS 35310\n"
     ]
    }
   ],
   "source": [
    "from sklearn.feature_extraction.text import CountVectorizer\n",
    "\n",
    "stopwords = nltk.corpus.stopwords.words('portuguese')\n",
    "\n",
    "vect = CountVectorizer(ngram_range=(1,1), stop_words=stopwords)\n",
    "vect.fit(df.texto)\n",
    "text_vect = vect.transform(df.texto)\n",
    "\n",
    "print('UNIGRAMS without the STOPWORDS', text_vect.shape[1])"
   ]
  },
  {
   "cell_type": "markdown",
   "metadata": {},
   "source": [
    "## Bigrams count before and after removing the stopwords\n"
   ]
  },
  {
   "cell_type": "code",
   "execution_count": 13,
   "metadata": {},
   "outputs": [
    {
     "name": "stdout",
     "output_type": "stream",
     "text": [
      "BIGRAMAS com STOPWORDS 159553\n"
     ]
    }
   ],
   "source": [
    "from sklearn.feature_extraction.text import CountVectorizer\n",
    "\n",
    "vect = CountVectorizer(ngram_range=(2,2))\n",
    "vect.fit(df.texto)\n",
    "text_vect = vect.transform(df.texto)\n",
    "\n",
    "print('BIGRAMS with the STOPWORDS', text_vect.shape[1])"
   ]
  },
  {
   "cell_type": "code",
   "execution_count": 14,
   "metadata": {},
   "outputs": [
    {
     "name": "stdout",
     "output_type": "stream",
     "text": [
      "BIGRAMAS sem STOPWORDS 145409\n"
     ]
    }
   ],
   "source": [
    "from sklearn.feature_extraction.text import CountVectorizer\n",
    "\n",
    "stopwords = nltk.corpus.stopwords.words('portuguese')\n",
    "\n",
    "vect = CountVectorizer(ngram_range=(2,2), stop_words=stopwords)\n",
    "vect.fit(df.texto)\n",
    "text_vect = vect.transform(df.texto)\n",
    "\n",
    "print('BIGRAMS without the STOPWORDS', text_vect.shape[1])"
   ]
  },
  {
   "cell_type": "markdown",
   "metadata": {},
   "source": [
    "## Trigrams count before and after removing the stopwords"
   ]
  },
  {
   "cell_type": "code",
   "execution_count": 15,
   "metadata": {},
   "outputs": [
    {
     "name": "stdout",
     "output_type": "stream",
     "text": [
      "TRIGRAMAS com STOPWORDS 228162\n"
     ]
    }
   ],
   "source": [
    "from sklearn.feature_extraction.text import CountVectorizer\n",
    "\n",
    "vect = CountVectorizer(ngram_range=(3,3))\n",
    "vect.fit(df.texto)\n",
    "text_vect = vect.transform(df.texto)\n",
    "\n",
    "print('TRIGRAMS with the STOPWORDS', text_vect.shape[1])"
   ]
  },
  {
   "cell_type": "code",
   "execution_count": 37,
   "metadata": {},
   "outputs": [
    {
     "name": "stdout",
     "output_type": "stream",
     "text": [
      "TRIGRAMS without STOPWORDS 177869\n"
     ]
    }
   ],
   "source": [
    "from sklearn.feature_extraction.text import CountVectorizer\n",
    "\n",
    "stopwords = nltk.corpus.stopwords.words('portuguese')\n",
    "\n",
    "vect = CountVectorizer(ngram_range=(3,3), stop_words=stopwords)\n",
    "vect.fit(df.texto)\n",
    "text_vect = vect.transform(df.texto)\n",
    "\n",
    "print('TRIGRAMS without the STOPWORDS', text_vect.shape[1])"
   ]
  },
  {
   "cell_type": "markdown",
   "metadata": {},
   "source": [
    "## Verbs and Adverbs count"
   ]
  },
  {
   "cell_type": "code",
   "execution_count": 17,
   "metadata": {},
   "outputs": [
    {
     "name": "stderr",
     "output_type": "stream",
     "text": [
      "[nltk_data] Downloading package rslp to\n",
      "[nltk_data]     C:\\Users\\LEONARDOTOZOBISINOTO\\AppData\\Roaming\\nltk_dat\n",
      "[nltk_data]     a...\n",
      "[nltk_data]   Package rslp is already up-to-date!\n",
      "[nltk_data] Downloading package punkt to\n",
      "[nltk_data]     C:\\Users\\LEONARDOTOZOBISINOTO\\AppData\\Roaming\\nltk_dat\n",
      "[nltk_data]     a...\n",
      "[nltk_data]   Package punkt is already up-to-date!\n",
      "[nltk_data] Downloading package universal_tagset to\n",
      "[nltk_data]     C:\\Users\\LEONARDOTOZOBISINOTO\\AppData\\Roaming\\nltk_dat\n",
      "[nltk_data]     a...\n",
      "[nltk_data]   Package universal_tagset is already up-to-date!\n",
      "[nltk_data] Downloading package averaged_perceptron_tagger to\n",
      "[nltk_data]     C:\\Users\\LEONARDOTOZOBISINOTO\\AppData\\Roaming\\nltk_dat\n",
      "[nltk_data]     a...\n",
      "[nltk_data]   Package averaged_perceptron_tagger is already up-to-\n",
      "[nltk_data]       date!\n"
     ]
    }
   ],
   "source": [
    "nltk.download('rslp')\n",
    "nltk.download('punkt')\n",
    "nltk.download('universal_tagset')\n",
    "nltk.download('averaged_perceptron_tagger')\n",
    "\n",
    "from nltk.tag import pos_tag\n",
    "from nltk.tokenize import word_tokenize"
   ]
  },
  {
   "cell_type": "code",
   "execution_count": 21,
   "metadata": {},
   "outputs": [
    {
     "data": {
      "text/plain": [
       "['O',\n",
       " 'Hobbit',\n",
       " '-',\n",
       " '7ª',\n",
       " 'Ed',\n",
       " '.',\n",
       " '2013',\n",
       " 'Produto',\n",
       " 'NovoBilbo',\n",
       " 'Bolseiro',\n",
       " 'é',\n",
       " 'um',\n",
       " 'hobbit',\n",
       " 'que']"
      ]
     },
     "execution_count": 21,
     "metadata": {},
     "output_type": "execute_result"
    }
   ],
   "source": [
    "word_tokenize('O Hobbit - 7ª Ed. 2013  Produto NovoBilbo Bolseiro é um hobbit que')"
   ]
  },
  {
   "cell_type": "code",
   "execution_count": 22,
   "metadata": {},
   "outputs": [
    {
     "data": {
      "text/plain": [
       "0    [O, Hobbit, -, 7ª, Ed, ., 2013, Produto, NovoB...\n",
       "1    [Livro, -, It, A, Coisa, -, Stephen, King, Pro...\n",
       "2    [Box, As, Crônicas, De, Gelo, E, Fogo, Pocket,...\n",
       "3    [Box, Harry, Potter, Produto, Novo, e, Físico,...\n",
       "4    [Livro, Origem, -, Dan, Brown, Produto, NovoDe...\n",
       "Name: tokens, dtype: object"
      ]
     },
     "execution_count": 22,
     "metadata": {},
     "output_type": "execute_result"
    }
   ],
   "source": [
    "df['tokens'] = df.texto.apply(word_tokenize)\n",
    "df.tokens.head()"
   ]
  },
  {
   "cell_type": "code",
   "execution_count": 23,
   "metadata": {},
   "outputs": [
    {
     "data": {
      "text/plain": [
       "0     [(O, NOUN), (Hobbit, NOUN), (-, .), (7ª, NUM),...\n",
       "1     [(Livro, NOUN), (-, .), (It, PRON), (A, DET), ...\n",
       "2     [(Box, NOUN), (As, ADP), (Crônicas, NOUN), (De...\n",
       "3     [(Box, NOUN), (Harry, NOUN), (Potter, NOUN), (...\n",
       "4     [(Livro, NOUN), (Origem, NOUN), (-, .), (Dan, ...\n",
       "5     [(Mais, NOUN), (Escuro, NOUN), (-, .), (Cinque...\n",
       "6     [(O, NOUN), (Silmarillion, NOUN), (-, .), (5ª,...\n",
       "7     [(O, NOUN), (Pequeno, NOUN), (Principe, NOUN),...\n",
       "8     [(Ed, NOUN), (&, CONJ), (Lorraine, NOUN), (War...\n",
       "9     [(Box, NOUN), (-, .), (Franz, NOUN), (Kafka, N...\n",
       "10    [(Livros, VERB), (The, DET), (Walking, NOUN), ...\n",
       "Name: tags, dtype: object"
      ]
     },
     "execution_count": 23,
     "metadata": {},
     "output_type": "execute_result"
    }
   ],
   "source": [
    "df['tags'] = df.tokens.apply(pos_tag, tagset='universal')\n",
    "\n",
    "df.tags.head(11)"
   ]
  },
  {
   "cell_type": "code",
   "execution_count": 24,
   "metadata": {},
   "outputs": [
    {
     "data": {
      "text/plain": [
       "[('O', 'NOUN'),\n",
       " ('Hobbit', 'NOUN'),\n",
       " ('-', '.'),\n",
       " ('7ª', 'NUM'),\n",
       " ('Ed', 'NOUN'),\n",
       " ('.', '.'),\n",
       " ('2013', 'NUM'),\n",
       " ('Produto', 'NOUN'),\n",
       " ('NovoBilbo', 'NOUN'),\n",
       " ('Bolseiro', 'NOUN'),\n",
       " ('é', 'NOUN'),\n",
       " ('um', 'ADJ'),\n",
       " ('hobbit', 'NOUN'),\n",
       " ('que', 'ADJ'),\n",
       " ('leva', 'NOUN'),\n",
       " ('uma', 'ADJ'),\n",
       " ('vida', 'NOUN'),\n",
       " ('confortável', 'NOUN'),\n",
       " ('e', 'NOUN'),\n",
       " ('sem', 'NOUN'),\n",
       " ('ambições', 'NOUN'),\n",
       " ('.', '.'),\n",
       " ('Mas', 'NOUN'),\n",
       " ('seu', 'VERB'),\n",
       " ('contentamento', 'ADJ'),\n",
       " ('é', 'NOUN'),\n",
       " ('perturbado', 'NOUN'),\n",
       " ('quando', 'NOUN'),\n",
       " ('Gandalf', 'NOUN'),\n",
       " (',', '.'),\n",
       " ('o', 'NOUN'),\n",
       " ('mago', 'NOUN'),\n",
       " (',', '.'),\n",
       " ('e', 'X'),\n",
       " ('uma', 'ADJ'),\n",
       " ('companhia', 'NOUN'),\n",
       " ('de', 'ADP'),\n",
       " ('anões', 'X'),\n",
       " ('batem', 'NOUN'),\n",
       " ('à', 'NOUN'),\n",
       " ('sua', 'NOUN'),\n",
       " ('porta', 'NOUN'),\n",
       " ('e', 'VERB'),\n",
       " ('levam-no', 'ADJ'),\n",
       " ('para', 'NOUN'),\n",
       " ('uma', 'ADJ'),\n",
       " ('expedição', 'NOUN'),\n",
       " ('.', '.'),\n",
       " ('Eles', 'NOUN'),\n",
       " ('têm', 'VERB'),\n",
       " ('um', 'ADJ'),\n",
       " ('plano', 'NOUN'),\n",
       " ('para', 'NOUN'),\n",
       " ('roubar', 'NOUN'),\n",
       " ('o', 'NOUN'),\n",
       " ('tesouro', 'NOUN'),\n",
       " ('guardado', 'NOUN'),\n",
       " ('por', 'NOUN'),\n",
       " ('Smaug', 'NOUN'),\n",
       " (',', '.'),\n",
       " ('o', 'NOUN'),\n",
       " ('Magnífico', 'NOUN'),\n",
       " (',', '.'),\n",
       " ('um', 'ADJ'),\n",
       " ('grande', 'NOUN'),\n",
       " ('e', 'NOUN'),\n",
       " ('perigoso', 'NOUN'),\n",
       " ('dragão', 'NOUN'),\n",
       " ('.', '.'),\n",
       " ('Bilbo', 'NOUN'),\n",
       " ('reluta', 'NOUN'),\n",
       " ('muito', 'NOUN'),\n",
       " ('em', 'NOUN'),\n",
       " ('participar', 'NOUN'),\n",
       " ('da', 'NOUN'),\n",
       " ('aventura', 'NOUN'),\n",
       " (',', '.'),\n",
       " ('mas', 'X'),\n",
       " ('acaba', 'X'),\n",
       " ('surpreendendo', 'X'),\n",
       " ('até', 'X'),\n",
       " ('a', 'DET'),\n",
       " ('si', 'NOUN'),\n",
       " ('mesmo', 'NOUN'),\n",
       " ('com', 'NOUN'),\n",
       " ('sua', 'NOUN'),\n",
       " ('esperteza', 'NOUN'),\n",
       " ('e', 'NOUN'),\n",
       " ('sua', 'NOUN'),\n",
       " ('habilidade', 'VERB'),\n",
       " ('como', 'ADJ'),\n",
       " ('ladrão', 'NOUN'),\n",
       " ('!', '.'),\n",
       " ('CaracterísticasAutor', 'NOUN'),\n",
       " (':', '.'),\n",
       " ('Tolkien', 'NOUN'),\n",
       " (',', '.'),\n",
       " ('J.', 'NOUN'),\n",
       " ('R.', 'NOUN'),\n",
       " ('R.Peso', 'NOUN'),\n",
       " (':', '.'),\n",
       " ('0.44I.S.B.N', 'NUM'),\n",
       " ('.', '.'),\n",
       " (':', '.'),\n",
       " ('9788578277109Altura', 'NUM'),\n",
       " (':', '.'),\n",
       " ('20.000000Largura', 'NUM'),\n",
       " (':', '.'),\n",
       " ('13.000000Profundidade', 'NUM'),\n",
       " (':', '.'),\n",
       " ('1.000000Número', 'NUM'),\n",
       " ('de', 'ADP'),\n",
       " ('Páginas', 'NOUN'),\n",
       " (':', '.'),\n",
       " ('328Idioma', 'NUM'),\n",
       " (':', '.'),\n",
       " ('PortuguêsAcabamento', 'NOUN'),\n",
       " (':', '.'),\n",
       " ('BrochuraNúmero', 'NOUN'),\n",
       " ('da', 'VERB'),\n",
       " ('edição', 'NOUN'),\n",
       " (':', '.'),\n",
       " ('7Ano', 'NUM'),\n",
       " ('da', 'NOUN'),\n",
       " ('edição', 'NOUN'),\n",
       " (':', '.'),\n",
       " ('2013', 'NUM')]"
      ]
     },
     "execution_count": 24,
     "metadata": {},
     "output_type": "execute_result"
    }
   ],
   "source": [
    "df.tags[0]"
   ]
  },
  {
   "cell_type": "code",
   "execution_count": 25,
   "metadata": {},
   "outputs": [
    {
     "data": {
      "text/plain": [
       "Counter({'a': 2})"
      ]
     },
     "execution_count": 25,
     "metadata": {},
     "output_type": "execute_result"
    }
   ],
   "source": [
    "from collections import Counter\n",
    "\n",
    "counter = Counter()\n",
    "\n",
    "counter['a'] += 2\n",
    "\n",
    "counter"
   ]
  },
  {
   "cell_type": "code",
   "execution_count": 34,
   "metadata": {},
   "outputs": [
    {
     "name": "stdout",
     "output_type": "stream",
     "text": [
      "Verbs 41774\n",
      "Adjectives 50788\n"
     ]
    }
   ],
   "source": [
    "from collections import Counter\n",
    "\n",
    "counter = Counter()\n",
    "\n",
    "for tags in df.tags:\n",
    "  for _, tag in tags:\n",
    "    counter[tag] += 1\n",
    "    \n",
    "print('Verbs', counter.get('VERB'))\n",
    "print('Adjectives', counter.get('ADJ'))"
   ]
  },
  {
   "cell_type": "code",
   "execution_count": 27,
   "metadata": {},
   "outputs": [
    {
     "data": {
      "text/plain": [
       "357208"
      ]
     },
     "execution_count": 27,
     "metadata": {},
     "output_type": "execute_result"
    }
   ],
   "source": [
    "counter.get('NOUN')"
   ]
  },
  {
   "cell_type": "code",
   "execution_count": 28,
   "metadata": {},
   "outputs": [
    {
     "data": {
      "text/plain": [
       "[('O', 'NOUN'),\n",
       " ('Hobbit', 'NOUN'),\n",
       " ('-', '.'),\n",
       " ('7ª', 'NUM'),\n",
       " ('Ed', 'NOUN'),\n",
       " ('.', '.'),\n",
       " ('2013', 'NUM'),\n",
       " ('Produto', 'NOUN'),\n",
       " ('NovoBilbo', 'NOUN'),\n",
       " ('Bolseiro', 'NOUN'),\n",
       " ('é', 'NOUN'),\n",
       " ('um', 'ADJ'),\n",
       " ('hobbit', 'NOUN'),\n",
       " ('que', 'ADJ'),\n",
       " ('leva', 'NOUN'),\n",
       " ('uma', 'ADJ'),\n",
       " ('vida', 'NOUN'),\n",
       " ('confortável', 'NOUN'),\n",
       " ('e', 'NOUN'),\n",
       " ('sem', 'NOUN'),\n",
       " ('ambições', 'NOUN'),\n",
       " ('.', '.'),\n",
       " ('Mas', 'NOUN'),\n",
       " ('seu', 'VERB'),\n",
       " ('contentamento', 'ADJ'),\n",
       " ('é', 'NOUN'),\n",
       " ('perturbado', 'NOUN'),\n",
       " ('quando', 'NOUN'),\n",
       " ('Gandalf', 'NOUN'),\n",
       " (',', '.'),\n",
       " ('o', 'NOUN'),\n",
       " ('mago', 'NOUN'),\n",
       " (',', '.'),\n",
       " ('e', 'X'),\n",
       " ('uma', 'ADJ'),\n",
       " ('companhia', 'NOUN'),\n",
       " ('de', 'ADP'),\n",
       " ('anões', 'X'),\n",
       " ('batem', 'NOUN'),\n",
       " ('à', 'NOUN'),\n",
       " ('sua', 'NOUN'),\n",
       " ('porta', 'NOUN'),\n",
       " ('e', 'VERB'),\n",
       " ('levam-no', 'ADJ'),\n",
       " ('para', 'NOUN'),\n",
       " ('uma', 'ADJ'),\n",
       " ('expedição', 'NOUN'),\n",
       " ('.', '.'),\n",
       " ('Eles', 'NOUN'),\n",
       " ('têm', 'VERB'),\n",
       " ('um', 'ADJ'),\n",
       " ('plano', 'NOUN'),\n",
       " ('para', 'NOUN'),\n",
       " ('roubar', 'NOUN'),\n",
       " ('o', 'NOUN'),\n",
       " ('tesouro', 'NOUN'),\n",
       " ('guardado', 'NOUN'),\n",
       " ('por', 'NOUN'),\n",
       " ('Smaug', 'NOUN'),\n",
       " (',', '.'),\n",
       " ('o', 'NOUN'),\n",
       " ('Magnífico', 'NOUN'),\n",
       " (',', '.'),\n",
       " ('um', 'ADJ'),\n",
       " ('grande', 'NOUN'),\n",
       " ('e', 'NOUN'),\n",
       " ('perigoso', 'NOUN'),\n",
       " ('dragão', 'NOUN'),\n",
       " ('.', '.'),\n",
       " ('Bilbo', 'NOUN'),\n",
       " ('reluta', 'NOUN'),\n",
       " ('muito', 'NOUN'),\n",
       " ('em', 'NOUN'),\n",
       " ('participar', 'NOUN'),\n",
       " ('da', 'NOUN'),\n",
       " ('aventura', 'NOUN'),\n",
       " (',', '.'),\n",
       " ('mas', 'X'),\n",
       " ('acaba', 'X'),\n",
       " ('surpreendendo', 'X'),\n",
       " ('até', 'X'),\n",
       " ('a', 'DET'),\n",
       " ('si', 'NOUN'),\n",
       " ('mesmo', 'NOUN'),\n",
       " ('com', 'NOUN'),\n",
       " ('sua', 'NOUN'),\n",
       " ('esperteza', 'NOUN'),\n",
       " ('e', 'NOUN'),\n",
       " ('sua', 'NOUN'),\n",
       " ('habilidade', 'VERB'),\n",
       " ('como', 'ADJ'),\n",
       " ('ladrão', 'NOUN'),\n",
       " ('!', '.'),\n",
       " ('CaracterísticasAutor', 'NOUN'),\n",
       " (':', '.'),\n",
       " ('Tolkien', 'NOUN'),\n",
       " (',', '.'),\n",
       " ('J.', 'NOUN'),\n",
       " ('R.', 'NOUN'),\n",
       " ('R.Peso', 'NOUN'),\n",
       " (':', '.'),\n",
       " ('0.44I.S.B.N', 'NUM'),\n",
       " ('.', '.'),\n",
       " (':', '.'),\n",
       " ('9788578277109Altura', 'NUM'),\n",
       " (':', '.'),\n",
       " ('20.000000Largura', 'NUM'),\n",
       " (':', '.'),\n",
       " ('13.000000Profundidade', 'NUM'),\n",
       " (':', '.'),\n",
       " ('1.000000Número', 'NUM'),\n",
       " ('de', 'ADP'),\n",
       " ('Páginas', 'NOUN'),\n",
       " (':', '.'),\n",
       " ('328Idioma', 'NUM'),\n",
       " (':', '.'),\n",
       " ('PortuguêsAcabamento', 'NOUN'),\n",
       " (':', '.'),\n",
       " ('BrochuraNúmero', 'NOUN'),\n",
       " ('da', 'VERB'),\n",
       " ('edição', 'NOUN'),\n",
       " (':', '.'),\n",
       " ('7Ano', 'NUM'),\n",
       " ('da', 'NOUN'),\n",
       " ('edição', 'NOUN'),\n",
       " (':', '.'),\n",
       " ('2013', 'NUM')]"
      ]
     },
     "execution_count": 28,
     "metadata": {},
     "output_type": "execute_result"
    }
   ],
   "source": [
    "df.tags[0]"
   ]
  },
  {
   "cell_type": "markdown",
   "metadata": {},
   "source": [
    "## Applying Stemmer in a sentence"
   ]
  },
  {
   "cell_type": "code",
   "execution_count": 29,
   "metadata": {},
   "outputs": [
    {
     "name": "stdout",
     "output_type": "stream",
     "text": [
      "PorterStemmer: O \t\t RSLPStemmer: o\n",
      "PorterStemmer: hobbit \t\t RSLPStemmer: hobbit\n",
      "PorterStemmer: - \t\t RSLPStemmer: -\n",
      "PorterStemmer: 7ª \t\t RSLPStemmer: 7ª\n",
      "PorterStemmer: Ed \t\t RSLPStemmer: ed\n",
      "PorterStemmer: . \t\t RSLPStemmer: .\n",
      "PorterStemmer: 2013 \t\t RSLPStemmer: 2013\n",
      "PorterStemmer: produto \t\t RSLPStemmer: produt\n",
      "PorterStemmer: novobilbo \t\t RSLPStemmer: novobilb\n",
      "PorterStemmer: bolseiro \t\t RSLPStemmer: bols\n",
      "PorterStemmer: é \t\t RSLPStemmer: é\n",
      "PorterStemmer: um \t\t RSLPStemmer: um\n",
      "PorterStemmer: hobbit \t\t RSLPStemmer: hobbit\n",
      "PorterStemmer: que \t\t RSLPStemmer: que\n",
      "PorterStemmer: leva \t\t RSLPStemmer: lev\n",
      "PorterStemmer: uma \t\t RSLPStemmer: uma\n",
      "PorterStemmer: vida \t\t RSLPStemmer: vid\n",
      "PorterStemmer: confortável \t\t RSLPStemmer: confort\n",
      "PorterStemmer: e \t\t RSLPStemmer: e\n",
      "PorterStemmer: sem \t\t RSLPStemmer: sem\n",
      "PorterStemmer: ambiçõ \t\t RSLPStemmer: amb\n",
      "PorterStemmer: . \t\t RSLPStemmer: .\n",
      "PorterStemmer: ma \t\t RSLPStemmer: mas\n",
      "PorterStemmer: seu \t\t RSLPStemmer: seu\n",
      "PorterStemmer: contentamento \t\t RSLPStemmer: content\n",
      "PorterStemmer: é \t\t RSLPStemmer: é\n",
      "PorterStemmer: perturbado \t\t RSLPStemmer: perturb\n",
      "PorterStemmer: quando \t\t RSLPStemmer: qu\n",
      "PorterStemmer: gandalf \t\t RSLPStemmer: gandalf\n",
      "PorterStemmer: , \t\t RSLPStemmer: ,\n",
      "PorterStemmer: o \t\t RSLPStemmer: o\n",
      "PorterStemmer: mago \t\t RSLPStemmer: mag\n",
      "PorterStemmer: , \t\t RSLPStemmer: ,\n",
      "PorterStemmer: e \t\t RSLPStemmer: e\n",
      "PorterStemmer: uma \t\t RSLPStemmer: uma\n",
      "PorterStemmer: companhia \t\t RSLPStemmer: companh\n",
      "PorterStemmer: de \t\t RSLPStemmer: de\n",
      "PorterStemmer: anõ \t\t RSLPStemmer: anõ\n",
      "PorterStemmer: batem \t\t RSLPStemmer: bat\n",
      "PorterStemmer: à \t\t RSLPStemmer: à\n",
      "PorterStemmer: sua \t\t RSLPStemmer: sua\n",
      "PorterStemmer: porta \t\t RSLPStemmer: port\n",
      "PorterStemmer: e \t\t RSLPStemmer: e\n",
      "PorterStemmer: levam-no \t\t RSLPStemmer: levam-n\n",
      "PorterStemmer: para \t\t RSLPStemmer: par\n",
      "PorterStemmer: uma \t\t RSLPStemmer: uma\n",
      "PorterStemmer: expedição \t\t RSLPStemmer: exped\n",
      "PorterStemmer: . \t\t RSLPStemmer: .\n",
      "PorterStemmer: ele \t\t RSLPStemmer: ele\n",
      "PorterStemmer: têm \t\t RSLPStemmer: têm\n",
      "PorterStemmer: um \t\t RSLPStemmer: um\n",
      "PorterStemmer: plano \t\t RSLPStemmer: plan\n",
      "PorterStemmer: para \t\t RSLPStemmer: par\n",
      "PorterStemmer: roubar \t\t RSLPStemmer: roub\n",
      "PorterStemmer: o \t\t RSLPStemmer: o\n",
      "PorterStemmer: tesouro \t\t RSLPStemmer: tesour\n",
      "PorterStemmer: guardado \t\t RSLPStemmer: guard\n",
      "PorterStemmer: por \t\t RSLPStemmer: por\n",
      "PorterStemmer: smaug \t\t RSLPStemmer: smaug\n",
      "PorterStemmer: , \t\t RSLPStemmer: ,\n",
      "PorterStemmer: o \t\t RSLPStemmer: o\n",
      "PorterStemmer: magnífico \t\t RSLPStemmer: magníf\n",
      "PorterStemmer: , \t\t RSLPStemmer: ,\n",
      "PorterStemmer: um \t\t RSLPStemmer: um\n",
      "PorterStemmer: grand \t\t RSLPStemmer: grand\n",
      "PorterStemmer: e \t\t RSLPStemmer: e\n",
      "PorterStemmer: perigoso \t\t RSLPStemmer: perig\n",
      "PorterStemmer: dragão \t\t RSLPStemmer: drag\n",
      "PorterStemmer: . \t\t RSLPStemmer: .\n",
      "PorterStemmer: bilbo \t\t RSLPStemmer: bilb\n",
      "PorterStemmer: reluta \t\t RSLPStemmer: relut\n",
      "PorterStemmer: muito \t\t RSLPStemmer: muit\n",
      "PorterStemmer: em \t\t RSLPStemmer: em\n",
      "PorterStemmer: participar \t\t RSLPStemmer: particip\n",
      "PorterStemmer: da \t\t RSLPStemmer: da\n",
      "PorterStemmer: aventura \t\t RSLPStemmer: avent\n",
      "PorterStemmer: , \t\t RSLPStemmer: ,\n",
      "PorterStemmer: ma \t\t RSLPStemmer: mas\n",
      "PorterStemmer: acaba \t\t RSLPStemmer: acab\n",
      "PorterStemmer: surpreendendo \t\t RSLPStemmer: surpreend\n",
      "PorterStemmer: até \t\t RSLPStemmer: até\n",
      "PorterStemmer: a \t\t RSLPStemmer: a\n",
      "PorterStemmer: si \t\t RSLPStemmer: si\n",
      "PorterStemmer: mesmo \t\t RSLPStemmer: mesm\n",
      "PorterStemmer: com \t\t RSLPStemmer: com\n",
      "PorterStemmer: sua \t\t RSLPStemmer: sua\n",
      "PorterStemmer: esperteza \t\t RSLPStemmer: espert\n",
      "PorterStemmer: e \t\t RSLPStemmer: e\n",
      "PorterStemmer: sua \t\t RSLPStemmer: sua\n",
      "PorterStemmer: habilidad \t\t RSLPStemmer: habil\n",
      "PorterStemmer: como \t\t RSLPStemmer: com\n",
      "PorterStemmer: ladrão \t\t RSLPStemmer: ladr\n",
      "PorterStemmer: ! \t\t RSLPStemmer: !\n",
      "PorterStemmer: característicasautor \t\t RSLPStemmer: característicasau\n",
      "PorterStemmer: : \t\t RSLPStemmer: :\n",
      "PorterStemmer: tolkien \t\t RSLPStemmer: tolkien\n",
      "PorterStemmer: , \t\t RSLPStemmer: ,\n",
      "PorterStemmer: J. \t\t RSLPStemmer: j.\n",
      "PorterStemmer: R. \t\t RSLPStemmer: r.\n",
      "PorterStemmer: r.peso \t\t RSLPStemmer: r.pes\n",
      "PorterStemmer: : \t\t RSLPStemmer: :\n",
      "PorterStemmer: 0.44i.s.b.n \t\t RSLPStemmer: 0.44i.s.b.n\n",
      "PorterStemmer: . \t\t RSLPStemmer: .\n",
      "PorterStemmer: : \t\t RSLPStemmer: :\n",
      "PorterStemmer: 9788578277109altura \t\t RSLPStemmer: 9788578277109alt\n",
      "PorterStemmer: : \t\t RSLPStemmer: :\n",
      "PorterStemmer: 20.000000largura \t\t RSLPStemmer: 20.000000larg\n",
      "PorterStemmer: : \t\t RSLPStemmer: :\n",
      "PorterStemmer: 13.000000profundidad \t\t RSLPStemmer: 13.000000profund\n",
      "PorterStemmer: : \t\t RSLPStemmer: :\n",
      "PorterStemmer: 1.000000número \t\t RSLPStemmer: 1.000000númer\n",
      "PorterStemmer: de \t\t RSLPStemmer: de\n",
      "PorterStemmer: página \t\t RSLPStemmer: págin\n",
      "PorterStemmer: : \t\t RSLPStemmer: :\n",
      "PorterStemmer: 328idioma \t\t RSLPStemmer: 328idiom\n",
      "PorterStemmer: : \t\t RSLPStemmer: :\n",
      "PorterStemmer: portuguêsacabamento \t\t RSLPStemmer: portuguêsacab\n",
      "PorterStemmer: : \t\t RSLPStemmer: :\n",
      "PorterStemmer: brochuranúmero \t\t RSLPStemmer: brochuranúmer\n",
      "PorterStemmer: da \t\t RSLPStemmer: da\n",
      "PorterStemmer: edição \t\t RSLPStemmer: ediç\n",
      "PorterStemmer: : \t\t RSLPStemmer: :\n",
      "PorterStemmer: 7ano \t\t RSLPStemmer: 7an\n",
      "PorterStemmer: da \t\t RSLPStemmer: da\n",
      "PorterStemmer: edição \t\t RSLPStemmer: ediç\n",
      "PorterStemmer: : \t\t RSLPStemmer: :\n",
      "PorterStemmer: 2013 \t\t RSLPStemmer: 2013\n"
     ]
    }
   ],
   "source": [
    "from nltk.stem import PorterStemmer\n",
    "from nltk.stem.rslp import RSLPStemmer\n",
    "\n",
    "\n",
    "tokens = df.tokens[0]\n",
    "\n",
    "\n",
    "ps = PorterStemmer()\n",
    "rslp = RSLPStemmer()\n",
    "\n",
    "for tok in tokens:\n",
    "  print('PorterStemmer: %s \\t\\t RSLPStemmer: %s' % (ps.stem(tok), rslp.stem(tok)))\n"
   ]
  },
  {
   "cell_type": "markdown",
   "metadata": {},
   "source": [
    "## Unigrams count after the Stemmer applying"
   ]
  },
  {
   "cell_type": "code",
   "execution_count": 30,
   "metadata": {},
   "outputs": [
    {
     "data": {
      "text/plain": [
       "0    o hobbit - 7ª ed . 2013 produt novobilb bols é...\n",
       "1    livr - it a cois - stephen king produt novodur...\n",
       "2    box as crôn de gel e fog pocket 5 livr produt ...\n",
       "3    box harry pott produt nov e físic a séri harry...\n",
       "4    livr orig - dan brown produt novod ond vi ? pa...\n",
       "Name: stemmer, dtype: object"
      ]
     },
     "execution_count": 30,
     "metadata": {},
     "output_type": "execute_result"
    }
   ],
   "source": [
    "from nltk.stem.rslp import RSLPStemmer\n",
    "from sklearn.feature_extraction.text import CountVectorizer\n",
    "\n",
    "\n",
    "rslp = RSLPStemmer()\n",
    "\n",
    "def stem_pandas(line):\n",
    "  return ' '.join([rslp.stem(token) for token in line])\n",
    "\n",
    "df['stemmer'] = df.tokens.apply(stem_pandas)\n",
    "\n",
    "df.stemmer.head()"
   ]
  },
  {
   "cell_type": "code",
   "execution_count": 35,
   "metadata": {},
   "outputs": [
    {
     "name": "stdout",
     "output_type": "stream",
     "text": [
      "UNIGRAMS without the STOPWORDS 26528\n"
     ]
    }
   ],
   "source": [
    "stopwords = nltk.corpus.stopwords.words('portuguese')\n",
    "vect = CountVectorizer(ngram_range=(1,1), stop_words=stopwords)\n",
    "vect.fit(df.stemmer)\n",
    "\n",
    "text_vect = vect.transform(df.stemmer)\n",
    "\n",
    "print('UNIGRAMS without the STOPWORDS', text_vect.shape[1])"
   ]
  }
 ],
 "metadata": {
  "kernelspec": {
   "display_name": "Python 3",
   "language": "python",
   "name": "python3"
  },
  "language_info": {
   "codemirror_mode": {
    "name": "ipython",
    "version": 3
   },
   "file_extension": ".py",
   "mimetype": "text/x-python",
   "name": "python",
   "nbconvert_exporter": "python",
   "pygments_lexer": "ipython3",
   "version": "3.7.3"
  }
 },
 "nbformat": 4,
 "nbformat_minor": 4
}
